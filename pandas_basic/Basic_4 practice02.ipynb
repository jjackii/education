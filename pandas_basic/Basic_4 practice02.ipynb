{
 "cells": [
  {
   "cell_type": "markdown",
   "metadata": {},
   "source": [
    "## 기초4_문제"
   ]
  },
  {
   "cell_type": "code",
   "execution_count": 1,
   "metadata": {
    "ExecuteTime": {
     "end_time": "2021-05-26T13:17:35.775409Z",
     "start_time": "2021-05-26T13:17:35.423497Z"
    }
   },
   "outputs": [],
   "source": [
    "import pandas as pd\n",
    "import numpy as np"
   ]
  },
  {
   "cell_type": "code",
   "execution_count": 2,
   "metadata": {
    "ExecuteTime": {
     "end_time": "2021-05-26T13:17:38.047410Z",
     "start_time": "2021-05-26T13:17:37.440792Z"
    }
   },
   "outputs": [],
   "source": [
    "'''\n",
    "seaborn의 타이타닉 데이터를 불러오자\n",
    "'''\n",
    "import seaborn as sns\n",
    "df = sns.load_dataset('titanic')"
   ]
  },
  {
   "cell_type": "code",
   "execution_count": 3,
   "metadata": {
    "ExecuteTime": {
     "end_time": "2021-05-26T13:17:39.651229Z",
     "start_time": "2021-05-26T13:17:39.632281Z"
    }
   },
   "outputs": [],
   "source": [
    "'''\n",
    "실습을 위에 데이터 소실 만들기\n",
    "변경 없이 실행 시켜주시면 됩니다.\n",
    "'''\n",
    "df.loc[1, 'pclass'] = '?'"
   ]
  },
  {
   "cell_type": "code",
   "execution_count": 4,
   "metadata": {
    "ExecuteTime": {
     "end_time": "2021-05-26T13:17:41.109647Z",
     "start_time": "2021-05-26T13:17:41.078709Z"
    },
    "scrolled": true
   },
   "outputs": [
    {
     "data": {
      "text/html": [
       "<div>\n",
       "<style scoped>\n",
       "    .dataframe tbody tr th:only-of-type {\n",
       "        vertical-align: middle;\n",
       "    }\n",
       "\n",
       "    .dataframe tbody tr th {\n",
       "        vertical-align: top;\n",
       "    }\n",
       "\n",
       "    .dataframe thead th {\n",
       "        text-align: right;\n",
       "    }\n",
       "</style>\n",
       "<table border=\"1\" class=\"dataframe\">\n",
       "  <thead>\n",
       "    <tr style=\"text-align: right;\">\n",
       "      <th></th>\n",
       "      <th>survived</th>\n",
       "      <th>pclass</th>\n",
       "      <th>sex</th>\n",
       "      <th>age</th>\n",
       "      <th>sibsp</th>\n",
       "      <th>parch</th>\n",
       "      <th>fare</th>\n",
       "      <th>embarked</th>\n",
       "      <th>class</th>\n",
       "      <th>who</th>\n",
       "      <th>adult_male</th>\n",
       "      <th>deck</th>\n",
       "      <th>embark_town</th>\n",
       "      <th>alive</th>\n",
       "      <th>alone</th>\n",
       "    </tr>\n",
       "  </thead>\n",
       "  <tbody>\n",
       "    <tr>\n",
       "      <th>0</th>\n",
       "      <td>0</td>\n",
       "      <td>3</td>\n",
       "      <td>male</td>\n",
       "      <td>22.0</td>\n",
       "      <td>1</td>\n",
       "      <td>0</td>\n",
       "      <td>7.2500</td>\n",
       "      <td>S</td>\n",
       "      <td>Third</td>\n",
       "      <td>man</td>\n",
       "      <td>True</td>\n",
       "      <td>NaN</td>\n",
       "      <td>Southampton</td>\n",
       "      <td>no</td>\n",
       "      <td>False</td>\n",
       "    </tr>\n",
       "    <tr>\n",
       "      <th>1</th>\n",
       "      <td>1</td>\n",
       "      <td>?</td>\n",
       "      <td>female</td>\n",
       "      <td>38.0</td>\n",
       "      <td>1</td>\n",
       "      <td>0</td>\n",
       "      <td>71.2833</td>\n",
       "      <td>C</td>\n",
       "      <td>First</td>\n",
       "      <td>woman</td>\n",
       "      <td>False</td>\n",
       "      <td>C</td>\n",
       "      <td>Cherbourg</td>\n",
       "      <td>yes</td>\n",
       "      <td>False</td>\n",
       "    </tr>\n",
       "    <tr>\n",
       "      <th>2</th>\n",
       "      <td>1</td>\n",
       "      <td>3</td>\n",
       "      <td>female</td>\n",
       "      <td>26.0</td>\n",
       "      <td>0</td>\n",
       "      <td>0</td>\n",
       "      <td>7.9250</td>\n",
       "      <td>S</td>\n",
       "      <td>Third</td>\n",
       "      <td>woman</td>\n",
       "      <td>False</td>\n",
       "      <td>NaN</td>\n",
       "      <td>Southampton</td>\n",
       "      <td>yes</td>\n",
       "      <td>True</td>\n",
       "    </tr>\n",
       "    <tr>\n",
       "      <th>3</th>\n",
       "      <td>1</td>\n",
       "      <td>1</td>\n",
       "      <td>female</td>\n",
       "      <td>35.0</td>\n",
       "      <td>1</td>\n",
       "      <td>0</td>\n",
       "      <td>53.1000</td>\n",
       "      <td>S</td>\n",
       "      <td>First</td>\n",
       "      <td>woman</td>\n",
       "      <td>False</td>\n",
       "      <td>C</td>\n",
       "      <td>Southampton</td>\n",
       "      <td>yes</td>\n",
       "      <td>False</td>\n",
       "    </tr>\n",
       "    <tr>\n",
       "      <th>4</th>\n",
       "      <td>0</td>\n",
       "      <td>3</td>\n",
       "      <td>male</td>\n",
       "      <td>35.0</td>\n",
       "      <td>0</td>\n",
       "      <td>0</td>\n",
       "      <td>8.0500</td>\n",
       "      <td>S</td>\n",
       "      <td>Third</td>\n",
       "      <td>man</td>\n",
       "      <td>True</td>\n",
       "      <td>NaN</td>\n",
       "      <td>Southampton</td>\n",
       "      <td>no</td>\n",
       "      <td>True</td>\n",
       "    </tr>\n",
       "  </tbody>\n",
       "</table>\n",
       "</div>"
      ],
      "text/plain": [
       "   survived pclass     sex   age  sibsp  parch     fare embarked  class  \\\n",
       "0         0      3    male  22.0      1      0   7.2500        S  Third   \n",
       "1         1      ?  female  38.0      1      0  71.2833        C  First   \n",
       "2         1      3  female  26.0      0      0   7.9250        S  Third   \n",
       "3         1      1  female  35.0      1      0  53.1000        S  First   \n",
       "4         0      3    male  35.0      0      0   8.0500        S  Third   \n",
       "\n",
       "     who  adult_male deck  embark_town alive  alone  \n",
       "0    man        True  NaN  Southampton    no  False  \n",
       "1  woman       False    C    Cherbourg   yes  False  \n",
       "2  woman       False  NaN  Southampton   yes   True  \n",
       "3  woman       False    C  Southampton   yes  False  \n",
       "4    man        True  NaN  Southampton    no   True  "
      ]
     },
     "execution_count": 4,
     "metadata": {},
     "output_type": "execute_result"
    }
   ],
   "source": [
    "'''\n",
    "데이터구조 확인 (기계적으로 확인하자)\n",
    "'''\n",
    "df.head()\n",
    "\n",
    "# df.describe() # 산술데이터(평균, 표준편차, max, min, 중간값) # pclass 안나옴"
   ]
  },
  {
   "cell_type": "code",
   "execution_count": 5,
   "metadata": {
    "ExecuteTime": {
     "end_time": "2021-05-26T13:17:53.092338Z",
     "start_time": "2021-05-26T13:17:53.073250Z"
    }
   },
   "outputs": [
    {
     "data": {
      "text/plain": [
       "array([3, '?', 1, 2], dtype=object)"
      ]
     },
     "execution_count": 5,
     "metadata": {},
     "output_type": "execute_result"
    }
   ],
   "source": [
    "'''\n",
    "pclass 열의 자료형 확인 _문자열(object)\n",
    "df['열'].unique() 활용\n",
    "'''\n",
    "df['pclass'].unique()\n",
    "# print(df['pclass'].dtypes)"
   ]
  },
  {
   "cell_type": "code",
   "execution_count": 6,
   "metadata": {
    "ExecuteTime": {
     "end_time": "2021-05-26T13:17:54.585132Z",
     "start_time": "2021-05-26T13:17:54.571709Z"
    }
   },
   "outputs": [
    {
     "data": {
      "text/plain": [
       "3    491\n",
       "1    215\n",
       "2    184\n",
       "?      1\n",
       "Name: pclass, dtype: int64"
      ]
     },
     "execution_count": 6,
     "metadata": {},
     "output_type": "execute_result"
    }
   ],
   "source": [
    "'''\n",
    "pclass의 목록 확인\n",
    "'''\n",
    "df['pclass'].value_counts()"
   ]
  },
  {
   "cell_type": "code",
   "execution_count": 7,
   "metadata": {
    "ExecuteTime": {
     "end_time": "2021-05-26T13:17:58.287489Z",
     "start_time": "2021-05-26T13:17:58.259547Z"
    }
   },
   "outputs": [],
   "source": [
    "'''\n",
    "pclass열의 누락 데이터('?') 삭제 후에 문자열을 정수형으로 변경\n",
    "'''\n",
    "df['pclass'].replace('?', np.nan, inplace=True)\n",
    "df.dropna(subset=['pclass'], inplace=True)\n",
    "df['pclass'] = df['pclass'].astype('int')"
   ]
  },
  {
   "cell_type": "code",
   "execution_count": 8,
   "metadata": {
    "ExecuteTime": {
     "end_time": "2021-05-26T13:17:59.483051Z",
     "start_time": "2021-05-26T13:17:59.476788Z"
    }
   },
   "outputs": [
    {
     "data": {
      "text/plain": [
       "dtype('int32')"
      ]
     },
     "execution_count": 8,
     "metadata": {},
     "output_type": "execute_result"
    }
   ],
   "source": [
    "'''\n",
    "pclass 열의 자료형 확인 _int\n",
    "'''\n",
    "df['pclass'].dtypes"
   ]
  },
  {
   "cell_type": "code",
   "execution_count": 9,
   "metadata": {
    "ExecuteTime": {
     "end_time": "2021-05-26T13:18:00.355802Z",
     "start_time": "2021-05-26T13:18:00.333843Z"
    }
   },
   "outputs": [
    {
     "name": "stdout",
     "output_type": "stream",
     "text": [
      "[3 1 2]\n"
     ]
    }
   ],
   "source": [
    "'''\n",
    "df['열'].unique() 를 활용하여\n",
    "pclass 열의 고유값 확인\n",
    "'''\n",
    "print(df['pclass'].unique())"
   ]
  },
  {
   "cell_type": "code",
   "execution_count": 10,
   "metadata": {
    "ExecuteTime": {
     "end_time": "2021-05-26T13:18:03.484517Z",
     "start_time": "2021-05-26T13:18:03.464686Z"
    }
   },
   "outputs": [
    {
     "data": {
      "text/plain": [
       "array(['3등급', '1등급', '2등급'], dtype=object)"
      ]
     },
     "execution_count": 10,
     "metadata": {},
     "output_type": "execute_result"
    }
   ],
   "source": [
    "'''\n",
    "정수형 데이터를 문자형 데이터로 변환 \n",
    "1을 1등급으로 변경\n",
    "2를 2등급으로 변경\n",
    "3을 3등급으로 변경\n",
    "'''\n",
    "# ***\n",
    "\n",
    "df['pclass'].replace({1 : '1등급', 2 : '2등급', 3 : '3등급'}, inplace=True)\n",
    "df['pclass'].unique()"
   ]
  },
  {
   "cell_type": "code",
   "execution_count": 11,
   "metadata": {
    "ExecuteTime": {
     "end_time": "2021-05-26T13:18:04.046097Z",
     "start_time": "2021-05-26T13:18:04.034919Z"
    }
   },
   "outputs": [
    {
     "name": "stdout",
     "output_type": "stream",
     "text": [
      "object\n"
     ]
    }
   ],
   "source": [
    "'''\n",
    "pclass 열의 자료형 확인 _object\n",
    "'''\n",
    "print(df['pclass'].dtypes)"
   ]
  },
  {
   "cell_type": "markdown",
   "metadata": {},
   "source": [
    " *범주형 데이터 처리* !!\n",
    " - Binning : cut"
   ]
  },
  {
   "cell_type": "code",
   "execution_count": 12,
   "metadata": {
    "ExecuteTime": {
     "end_time": "2021-05-26T13:18:09.834831Z",
     "start_time": "2021-05-26T13:18:09.825770Z"
    }
   },
   "outputs": [],
   "source": [
    "'''\n",
    "origin 열의 문자열 자료형을 범주형으로 변환\n",
    "'''\n",
    "df['pclass'] = df['pclass'].astype('category')\n",
    "# 눈으로는 안보이지만 컴퓨터는 범주형으로 인식"
   ]
  },
  {
   "cell_type": "code",
   "execution_count": 13,
   "metadata": {
    "ExecuteTime": {
     "end_time": "2021-05-26T13:18:10.562031Z",
     "start_time": "2021-05-26T13:18:10.558044Z"
    }
   },
   "outputs": [
    {
     "name": "stdout",
     "output_type": "stream",
     "text": [
      "category\n"
     ]
    }
   ],
   "source": [
    "print(df['pclass'].dtypes)"
   ]
  },
  {
   "cell_type": "code",
   "execution_count": 14,
   "metadata": {
    "ExecuteTime": {
     "end_time": "2021-05-26T13:18:15.921387Z",
     "start_time": "2021-05-26T13:18:15.903719Z"
    }
   },
   "outputs": [
    {
     "name": "stdout",
     "output_type": "stream",
     "text": [
      "object\n"
     ]
    }
   ],
   "source": [
    "'''\n",
    "origin 열의 범주형을 문자열로 다시 변환\n",
    "'''\n",
    "df['pclass'] = df['pclass'].astype('str')\n",
    "print(df['pclass'].dtypes)"
   ]
  },
  {
   "cell_type": "code",
   "execution_count": 15,
   "metadata": {
    "ExecuteTime": {
     "end_time": "2021-05-26T13:18:16.787402Z",
     "start_time": "2021-05-26T13:18:16.776752Z"
    }
   },
   "outputs": [
    {
     "name": "stdout",
     "output_type": "stream",
     "text": [
      "[870  17   3]\n",
      "[  0.     170.7764 341.5528 512.3292]\n"
     ]
    }
   ],
   "source": [
    "'''\n",
    "fare열을 np.histogram 함수로 3개의 bin으로 나누는 경계 값의 리스트 구하기\n",
    "'''\n",
    "# df['fare'] = df['fare'].astype('float')\n",
    "\n",
    "cnt, bin_d = np.histogram(df['fare'], bins=3)\n",
    "print(cnt)\n",
    "print(bin_d)"
   ]
  },
  {
   "cell_type": "code",
   "execution_count": 16,
   "metadata": {
    "ExecuteTime": {
     "end_time": "2021-05-26T13:18:17.528741Z",
     "start_time": "2021-05-26T13:18:17.520728Z"
    }
   },
   "outputs": [],
   "source": [
    "'''\n",
    "위에서 구한 세가지의 그룹을 ['하', '중', '상']로 변경해 보자\n",
    "'''\n",
    "bin_names = ['하', '중', '상']\n",
    "\n",
    "df['fare_bin'] = pd.cut(x = df['fare'],\n",
    "                    bins = bin_d,\n",
    "                    labels = bin_names,\n",
    "                    include_lowest=True)"
   ]
  },
  {
   "cell_type": "code",
   "execution_count": 17,
   "metadata": {
    "ExecuteTime": {
     "end_time": "2021-05-26T13:18:22.823430Z",
     "start_time": "2021-05-26T13:18:22.800443Z"
    }
   },
   "outputs": [
    {
     "data": {
      "text/html": [
       "<div>\n",
       "<style scoped>\n",
       "    .dataframe tbody tr th:only-of-type {\n",
       "        vertical-align: middle;\n",
       "    }\n",
       "\n",
       "    .dataframe tbody tr th {\n",
       "        vertical-align: top;\n",
       "    }\n",
       "\n",
       "    .dataframe thead th {\n",
       "        text-align: right;\n",
       "    }\n",
       "</style>\n",
       "<table border=\"1\" class=\"dataframe\">\n",
       "  <thead>\n",
       "    <tr style=\"text-align: right;\">\n",
       "      <th></th>\n",
       "      <th>fare</th>\n",
       "      <th>fare_bin</th>\n",
       "    </tr>\n",
       "  </thead>\n",
       "  <tbody>\n",
       "    <tr>\n",
       "      <th>886</th>\n",
       "      <td>13.00</td>\n",
       "      <td>하</td>\n",
       "    </tr>\n",
       "    <tr>\n",
       "      <th>887</th>\n",
       "      <td>30.00</td>\n",
       "      <td>하</td>\n",
       "    </tr>\n",
       "    <tr>\n",
       "      <th>888</th>\n",
       "      <td>23.45</td>\n",
       "      <td>하</td>\n",
       "    </tr>\n",
       "    <tr>\n",
       "      <th>889</th>\n",
       "      <td>30.00</td>\n",
       "      <td>하</td>\n",
       "    </tr>\n",
       "    <tr>\n",
       "      <th>890</th>\n",
       "      <td>7.75</td>\n",
       "      <td>하</td>\n",
       "    </tr>\n",
       "  </tbody>\n",
       "</table>\n",
       "</div>"
      ],
      "text/plain": [
       "      fare fare_bin\n",
       "886  13.00        하\n",
       "887  30.00        하\n",
       "888  23.45        하\n",
       "889  30.00        하\n",
       "890   7.75        하"
      ]
     },
     "execution_count": 17,
     "metadata": {},
     "output_type": "execute_result"
    }
   ],
   "source": [
    "'''위의 변경값 확인'''\n",
    "df[['fare', 'fare_bin']].tail(5)"
   ]
  },
  {
   "cell_type": "code",
   "execution_count": 18,
   "metadata": {
    "ExecuteTime": {
     "end_time": "2021-05-26T13:18:27.247746Z",
     "start_time": "2021-05-26T13:18:27.220106Z"
    }
   },
   "outputs": [
    {
     "name": "stdout",
     "output_type": "stream",
     "text": [
      "    하  중  상\n",
      "0   1  0  0\n",
      "2   1  0  0\n",
      "3   1  0  0\n",
      "4   1  0  0\n",
      "5   1  0  0\n",
      "6   1  0  0\n",
      "7   1  0  0\n",
      "8   1  0  0\n",
      "9   1  0  0\n",
      "10  1  0  0\n",
      "11  1  0  0\n",
      "12  1  0  0\n",
      "13  1  0  0\n",
      "14  1  0  0\n",
      "15  1  0  0\n"
     ]
    }
   ],
   "source": [
    "'''\n",
    "fare_bin 열의 범주형 데이터를 더미 변수로 변환\n",
    "'''\n",
    "fare_dummies = pd.get_dummies(df['fare_bin'])\n",
    "print(fare_dummies.head(15))\n",
    "# fare_dummies[20:40]"
   ]
  },
  {
   "cell_type": "code",
   "execution_count": null,
   "metadata": {},
   "outputs": [],
   "source": [
    "# 희소행렬?"
   ]
  }
 ],
 "metadata": {
  "kernelspec": {
   "display_name": "Python 3",
   "language": "python",
   "name": "python3"
  },
  "language_info": {
   "codemirror_mode": {
    "name": "ipython",
    "version": 3
   },
   "file_extension": ".py",
   "mimetype": "text/x-python",
   "name": "python",
   "nbconvert_exporter": "python",
   "pygments_lexer": "ipython3",
   "version": "3.8.5"
  },
  "toc": {
   "base_numbering": 1,
   "nav_menu": {},
   "number_sections": true,
   "sideBar": true,
   "skip_h1_title": false,
   "title_cell": "Table of Contents",
   "title_sidebar": "Contents",
   "toc_cell": false,
   "toc_position": {},
   "toc_section_display": true,
   "toc_window_display": false
  }
 },
 "nbformat": 4,
 "nbformat_minor": 4
}
