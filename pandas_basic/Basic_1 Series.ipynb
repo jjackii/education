{
 "cells": [
  {
   "cell_type": "markdown",
   "metadata": {},
   "source": [
    "- *CRUD*\n",
    "- Series vs Data frame"
   ]
  },
  {
   "cell_type": "markdown",
   "metadata": {},
   "source": [
    "# Pandas\n",
    "> **Why?** 판다스의 시리즈나 데이터프레임을 사용하는 이유는 구조화된 데이터 형식으로 만들기 위함이고, 즉 **데이터를 분석이 가능한 형태**로 정리하는 것이다."
   ]
  },
  {
   "cell_type": "markdown",
   "metadata": {},
   "source": [
    "## Series\n",
    "- 1차원 배열의 형태로 인덱스와 데이터 값은 일대일 대응\n",
    "- Index of Series → 데이터 값의 위치를 나타낸다"
   ]
  },
  {
   "cell_type": "markdown",
   "metadata": {},
   "source": [
    "### 목표\n",
    "1. Dict → Series 변환\n",
    "2. List → Series 변환\n",
    "3. Tuple → Series 변환"
   ]
  },
  {
   "cell_type": "markdown",
   "metadata": {},
   "source": [
    "#### Dict → Series\n",
    "> pandas.Series"
   ]
  },
  {
   "cell_type": "code",
   "execution_count": 1,
   "metadata": {
    "ExecuteTime": {
     "end_time": "2021-05-25T13:23:36.415231Z",
     "start_time": "2021-05-25T13:23:36.053960Z"
    }
   },
   "outputs": [],
   "source": [
    "import pandas as pd"
   ]
  },
  {
   "cell_type": "code",
   "execution_count": 2,
   "metadata": {
    "ExecuteTime": {
     "end_time": "2021-05-25T13:23:41.491052Z",
     "start_time": "2021-05-25T13:23:41.480080Z"
    }
   },
   "outputs": [
    {
     "data": {
      "text/plain": [
       "a    1\n",
       "b    2\n",
       "c    3\n",
       "dtype: int64"
      ]
     },
     "execution_count": 2,
     "metadata": {},
     "output_type": "execute_result"
    }
   ],
   "source": [
    "# basic\n",
    "dic = {'a':1, 'b':2, 'c':3}\n",
    "sr = pd.Series(dic)\n",
    "sr"
   ]
  },
  {
   "cell_type": "code",
   "execution_count": 3,
   "metadata": {
    "ExecuteTime": {
     "end_time": "2021-05-25T13:23:44.039400Z",
     "start_time": "2021-05-25T13:23:44.030448Z"
    }
   },
   "outputs": [
    {
     "data": {
      "text/plain": [
       "[코로나 지역]     [서울, 대구]\n",
       "해외 확진자        [12, 2]\n",
       "국내 확진자      [222, 22]\n",
       "dtype: object"
      ]
     },
     "execution_count": 3,
     "metadata": {},
     "output_type": "execute_result"
    }
   ],
   "source": [
    "'''\n",
    "아래의 딕셔너리를 시리즈로 변환하자\n",
    "dict_data = {\"코로나 지역\": [\"서울\", \"대구\"], \"해외 확진자\":[12, 2], \"국내 확진자\":[222, 22]}\n",
    "'''\n",
    "dict_data = {'[코로나 지역]':[\"서울\", \"대구\"], '해외 확진자':[12, 2], '국내 확진자':[222, 22]}\n",
    "sr = pd.Series(dict_data)\n",
    "sr # value → list도 넣을 수 있다 / key → 안되는듯"
   ]
  },
  {
   "cell_type": "code",
   "execution_count": 4,
   "metadata": {
    "ExecuteTime": {
     "end_time": "2021-05-25T13:23:45.592850Z",
     "start_time": "2021-05-25T13:23:45.584300Z"
    }
   },
   "outputs": [
    {
     "name": "stdout",
     "output_type": "stream",
     "text": [
      "Index(['[코로나 지역]', '해외 확진자', '국내 확진자'], dtype='object')\n",
      "[list(['서울', '대구']) list([12, 2]) list([222, 22])]\n",
      "['서울', '대구']\n",
      "['서울', '대구']\n",
      "서울\n"
     ]
    }
   ],
   "source": [
    "'''\n",
    "아래의 명령어를 활용하여, 위의 시리즈의 인덱스와 벨류값을 자유롭게 프린트해보자.\n",
    "> Series객체.index\n",
    "> Series객체.values\n",
    "'''\n",
    "print(sr.index)\n",
    "print(sr.values)\n",
    "print(sr.values[0])\n",
    "print(sr[0])\n",
    "print(sr[0][0])"
   ]
  },
  {
   "cell_type": "code",
   "execution_count": 5,
   "metadata": {
    "ExecuteTime": {
     "end_time": "2021-05-25T13:23:46.512734Z",
     "start_time": "2021-05-25T13:23:46.498179Z"
    }
   },
   "outputs": [
    {
     "data": {
      "text/plain": [
       "258"
      ]
     },
     "execution_count": 5,
     "metadata": {},
     "output_type": "execute_result"
    }
   ],
   "source": [
    "'''\n",
    "확진자의 총 합을 구해보자\n",
    "힌트_ sr.values[1]\n",
    "'''\n",
    "# sum(sr.values[1]) + sum(sr.values[2]) \n",
    "# pd.Series([]).sum()\n",
    "pd.Series(sr.values[1]).sum() + pd.Series(sr.values[2]).sum()"
   ]
  },
  {
   "cell_type": "markdown",
   "metadata": {},
   "source": [
    "*Point*\n",
    "- ***Dict***\n",
    "- Key값 → Series의 Index\n",
    "- Value값 →  Series의 Data"
   ]
  },
  {
   "cell_type": "markdown",
   "metadata": {},
   "source": [
    "#### List -> Series\n",
    "> pandas.Series"
   ]
  },
  {
   "cell_type": "code",
   "execution_count": 6,
   "metadata": {
    "ExecuteTime": {
     "end_time": "2021-05-25T13:23:49.032010Z",
     "start_time": "2021-05-25T13:23:49.019348Z"
    }
   },
   "outputs": [
    {
     "data": {
      "text/plain": [
       "하나     영우\n",
       "둘     글로벌\n",
       "셋      러닝\n",
       "dtype: object"
      ]
     },
     "execution_count": 6,
     "metadata": {},
     "output_type": "execute_result"
    }
   ],
   "source": [
    "# basic\n",
    "list_data = [\"영우\", \"글로벌\", \"러닝\"]\n",
    "sr = pd.Series(list_data, index=[\"하나\", \"둘\", \"셋\"])\n",
    "sr"
   ]
  },
  {
   "cell_type": "code",
   "execution_count": 7,
   "metadata": {
    "ExecuteTime": {
     "end_time": "2021-05-25T13:23:49.620716Z",
     "start_time": "2021-05-25T13:23:49.600471Z"
    }
   },
   "outputs": [
    {
     "data": {
      "text/plain": [
       "하나     영우\n",
       "둘     글로벌\n",
       "셋      러닝\n",
       "dtype: object"
      ]
     },
     "execution_count": 7,
     "metadata": {},
     "output_type": "execute_result"
    }
   ],
   "source": [
    "'''\n",
    "아래의 리스트를 시리즈로 변환하자\n",
    "list_data = [\"영우\", \"글로벌\", \"러닝\"]\n",
    "'''\n",
    "list_data = [\"영우\", \"글로벌\", \"러닝\"]\n",
    "sr = pd.Series(list_data, index=[\"하나\", \"둘\", \"셋\"])\n",
    "sr"
   ]
  },
  {
   "cell_type": "code",
   "execution_count": 8,
   "metadata": {
    "ExecuteTime": {
     "end_time": "2021-05-25T13:23:50.195822Z",
     "start_time": "2021-05-25T13:23:50.182090Z"
    }
   },
   "outputs": [
    {
     "name": "stdout",
     "output_type": "stream",
     "text": [
      "Index(['하나', '둘', '셋'], dtype='object')\n",
      "['영우' '글로벌' '러닝']\n",
      "하나    영우\n",
      "dtype: object\n"
     ]
    }
   ],
   "source": [
    "'''\n",
    "아래의 명령어를 활용하여, 위의 시리즈의 인덱스와 벨류값을 자유롭게 프린트해보자.\n",
    "> Series객체.index\n",
    "> Series객체.values\n",
    "> Series객체.index[0]\n",
    "> Series객체.values[1]\n",
    "'''\n",
    "print(sr.index)\n",
    "print(sr.values)\n",
    "print(sr[:1]) # sr[:, 1] ValueError: key of type tuple not found and not a MultiIndex"
   ]
  },
  {
   "cell_type": "code",
   "execution_count": 9,
   "metadata": {
    "ExecuteTime": {
     "end_time": "2021-05-25T13:23:50.786887Z",
     "start_time": "2021-05-25T13:23:50.770389Z"
    }
   },
   "outputs": [
    {
     "data": {
      "text/plain": [
       "0     2021-05-19\n",
       "1             CU\n",
       "2    543,440,000\n",
       "3       -230,000\n",
       "dtype: object"
      ]
     },
     "execution_count": 9,
     "metadata": {},
     "output_type": "execute_result"
    }
   ],
   "source": [
    "'''\n",
    "아래의 리스트를 시리즈로 변환하자\n",
    "list_data = [\"2021-05-19\", \"CU\", \"543,440,000\", \"-230,000\"]\n",
    "'''\n",
    "list_data = [\"2021-05-19\", \"CU\", \"543,440,000\", \"-230,000\"]\n",
    "sr = pd.Series(list_data)\n",
    "sr"
   ]
  },
  {
   "cell_type": "markdown",
   "metadata": {},
   "source": [
    "*Point*\n",
    "- 별도의 인덱스를 정의하지 않으면 자동으로 인덱스가 지정됨"
   ]
  },
  {
   "cell_type": "code",
   "execution_count": 10,
   "metadata": {
    "ExecuteTime": {
     "end_time": "2021-05-25T13:23:51.949167Z",
     "start_time": "2021-05-25T13:23:51.938688Z"
    }
   },
   "outputs": [
    {
     "data": {
      "text/plain": [
       "날짜      2021-05-19\n",
       "편의점             CU\n",
       "순이익    543,440,000\n",
       "순지출       -230,000\n",
       "dtype: object"
      ]
     },
     "execution_count": 10,
     "metadata": {},
     "output_type": "execute_result"
    }
   ],
   "source": [
    "'''\n",
    "index 인자를 사용하여 인덱스를 지정해 보자\n",
    "'''\n",
    "sr = pd.Series(list_data, index=[\"날짜\", \"편의점\", \"순이익\", \"순지출\"])\n",
    "sr"
   ]
  },
  {
   "cell_type": "markdown",
   "metadata": {},
   "source": [
    "#### Tuple -> Series\n",
    "> pandas.Series"
   ]
  },
  {
   "cell_type": "code",
   "execution_count": 11,
   "metadata": {
    "ExecuteTime": {
     "end_time": "2021-05-25T13:23:53.131707Z",
     "start_time": "2021-05-25T13:23:53.121213Z"
    }
   },
   "outputs": [
    {
     "name": "stdout",
     "output_type": "stream",
     "text": [
      "('파이썬', '2021-01-01', '남', True) \n",
      "\n",
      "이름             파이썬\n",
      "생년월일    2021-01-01\n",
      "성별               남\n",
      "학생여부          True\n",
      "dtype: object\n"
     ]
    }
   ],
   "source": [
    "'''\n",
    "튜플은 확인만\n",
    "'''\n",
    "tup_data = ('파이썬', '2021-01-01', '남', True)\n",
    "print(tup_data, \"\\n\")\n",
    "\n",
    "sr = pd.Series(tup_data, index=['이름', '생년월일', '성별', '학생여부'])\n",
    "print(sr)"
   ]
  },
  {
   "cell_type": "code",
   "execution_count": 12,
   "metadata": {
    "ExecuteTime": {
     "end_time": "2021-05-25T13:23:53.802049Z",
     "start_time": "2021-05-25T13:23:53.797065Z"
    }
   },
   "outputs": [
    {
     "name": "stdout",
     "output_type": "stream",
     "text": [
      "Index(['이름', '생년월일', '성별', '학생여부'], dtype='object')\n",
      "['파이썬' '2021-01-01' '남' True]\n"
     ]
    }
   ],
   "source": [
    "print(sr.index)\n",
    "print(sr.values)"
   ]
  },
  {
   "cell_type": "markdown",
   "metadata": {},
   "source": [
    "*Point*\n",
    "- index에 숫자가 아닌 값도 넣을 수 있다\n",
    "- 딕셔너리, 리스트, 튜플이 시리즈로 바뀔 때의 차이점\n",
    "- index 인자의 유무에 대한 차이점"
   ]
  },
  {
   "cell_type": "markdown",
   "metadata": {},
   "source": [
    "#### 데이터 추출 \n",
    "1. 정수형 위치 인덱스를 사용하는 방식\n",
    "2. 인덱스 이름(라벨)을 사용하는 방식"
   ]
  },
  {
   "cell_type": "code",
   "execution_count": 13,
   "metadata": {
    "ExecuteTime": {
     "end_time": "2021-05-25T13:23:55.587130Z",
     "start_time": "2021-05-25T13:23:55.578639Z"
    }
   },
   "outputs": [
    {
     "name": "stdout",
     "output_type": "stream",
     "text": [
      "이름             파이썬\n",
      "생년월일    2021-01-01\n",
      "성별               남\n",
      "학생여부          True\n",
      "dtype: object\n",
      "\n",
      "파이썬\n",
      "파이썬\n"
     ]
    }
   ],
   "source": [
    "tup_data = ('파이썬', '2021-01-01', '남', True)\n",
    "sr = pd.Series(tup_data, index=['이름', '생년월일', '성별', '학생여부'])\n",
    "print(sr)\n",
    "'''\n",
    "하나만 뽑고 싶을 땐 하나만 적는다.\n",
    "'''\n",
    "print()\n",
    "print(sr[0])\n",
    "print(sr['이름'])"
   ]
  },
  {
   "cell_type": "code",
   "execution_count": 14,
   "metadata": {
    "ExecuteTime": {
     "end_time": "2021-05-25T13:23:56.204222Z",
     "start_time": "2021-05-25T13:23:56.193252Z"
    }
   },
   "outputs": [
    {
     "name": "stdout",
     "output_type": "stream",
     "text": [
      "이름             파이썬\n",
      "생년월일    2021-01-01\n",
      "dtype: object\n",
      "\n",
      "이름    파이썬\n",
      "성별      남\n",
      "dtype: object\n"
     ]
    }
   ],
   "source": [
    "'''\n",
    "여러개를 뽑고 싶을 때는 리스트를 사용한다.\n",
    "'''\n",
    "print(sr[[0, 1]])\n",
    "print()\n",
    "print(sr[[\"이름\", \"성별\"]])"
   ]
  },
  {
   "cell_type": "code",
   "execution_count": 15,
   "metadata": {
    "ExecuteTime": {
     "end_time": "2021-05-25T13:23:56.794933Z",
     "start_time": "2021-05-25T13:23:56.776983Z"
    }
   },
   "outputs": [
    {
     "name": "stdout",
     "output_type": "stream",
     "text": [
      "생년월일    2021-01-01\n",
      "성별               남\n",
      "학생여부          True\n",
      "dtype: object\n",
      "\n",
      "이름    파이썬\n",
      "dtype: object\n"
     ]
    }
   ],
   "source": [
    "'''\n",
    "1번째 아래 전체를 뽑고 싶다.\n",
    "파이썬의 슬라이싱과 같은 방법 사용\n",
    "'''\n",
    "print(sr[1:])\n",
    "print()\n",
    "print(sr[:1])"
   ]
  },
  {
   "cell_type": "code",
   "execution_count": 16,
   "metadata": {
    "ExecuteTime": {
     "end_time": "2021-05-25T13:23:57.386317Z",
     "start_time": "2021-05-25T13:23:57.373354Z"
    }
   },
   "outputs": [
    {
     "name": "stdout",
     "output_type": "stream",
     "text": [
      "생년월일    2021-01-01\n",
      "성별               남\n",
      "학생여부          True\n",
      "dtype: object\n",
      "\n",
      "이름             파이썬\n",
      "생년월일    2021-01-01\n",
      "dtype: object\n"
     ]
    }
   ],
   "source": [
    "'''\n",
    "위와의 차이점 인지\n",
    "'''\n",
    "print(sr[\"생년월일\":])\n",
    "print()\n",
    "print(sr[:\"생년월일\"])"
   ]
  }
 ],
 "metadata": {
  "kernelspec": {
   "display_name": "Python 3",
   "language": "python",
   "name": "python3"
  },
  "language_info": {
   "codemirror_mode": {
    "name": "ipython",
    "version": 3
   },
   "file_extension": ".py",
   "mimetype": "text/x-python",
   "name": "python",
   "nbconvert_exporter": "python",
   "pygments_lexer": "ipython3",
   "version": "3.8.5"
  },
  "toc": {
   "base_numbering": 1,
   "nav_menu": {},
   "number_sections": true,
   "sideBar": true,
   "skip_h1_title": false,
   "title_cell": "Table of Contents",
   "title_sidebar": "Contents",
   "toc_cell": false,
   "toc_position": {},
   "toc_section_display": true,
   "toc_window_display": true
  }
 },
 "nbformat": 4,
 "nbformat_minor": 4
}
