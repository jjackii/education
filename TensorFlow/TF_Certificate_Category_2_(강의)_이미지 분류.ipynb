{
 "cells": [
  {
   "cell_type": "markdown",
   "metadata": {
    "id": "vY-Ca0dhGTAk"
   },
   "source": [
    "# Category 2\n",
    "\n",
    "Fully Connected Layer (Dense)를 활용한 이미지 분류 (Image Classification)"
   ]
  },
  {
   "cell_type": "markdown",
   "metadata": {
    "id": "ww0hxcaSGb0m"
   },
   "source": [
    "## 확인"
   ]
  },
  {
   "cell_type": "markdown",
   "metadata": {
    "id": "FI6oK1X-GdJJ"
   },
   "source": [
    "1. GPU 옵션 켜져 있는지 확인할 것!!! (수정 - 노트설정 - 하드웨어설정 (GPU))"
   ]
  },
  {
   "cell_type": "markdown",
   "metadata": {
    "id": "1yoe-K38GQ4b"
   },
   "source": [
    "## 순서"
   ]
  },
  {
   "cell_type": "markdown",
   "metadata": {
    "id": "Bc6iTV8DGPop"
   },
   "source": [
    "1. **import**: 필요한 모듈 import\n",
    "2. **전처리**: 학습에 필요한 데이터 전처리를 수행합니다.\n",
    "3. **모델링(model)**: 모델을 정의합니다.\n",
    "4. **컴파일(compile)**: 모델을 생성합니다.\n",
    "5. **학습 (fit)**: 모델을 학습시킵니다."
   ]
  },
  {
   "cell_type": "markdown",
   "metadata": {
    "id": "msi1agesayxW"
   },
   "source": [
    "## 문제"
   ]
  },
  {
   "cell_type": "markdown",
   "metadata": {
    "id": "K2BLvK-5ayxW"
   },
   "source": [
    "Create a classifier for the Fashion MNIST dataset\n",
    "\n",
    "Note that the test will expect it to classify 10 classes and that \n",
    "\n",
    "the input shape should be the native size of the Fashion MNIST dataset which is 28x28 monochrome. \n",
    "\n",
    "Do not resize the data. Your input layer should accept\n",
    "\n",
    "(28,28) as the input shape only. \n",
    "\n",
    "If you amend this, the tests will fail."
   ]
  },
  {
   "cell_type": "markdown",
   "metadata": {
    "id": "T4eg-t_payxX"
   },
   "source": [
    "Fashion MNIST 데이터 셋에 대한 분류기 생성\n",
    "테스트는 10 개의 클래스를 분류 할 것으로 예상하고\n",
    "\n",
    "입력 모양은 Fashion MNIST 데이터 세트의 기본 크기 여야합니다.28x28 단색. \n",
    "\n",
    "데이터 크기를 조정하지 마십시오. input_shape는\n",
    "(28,28)을 입력 모양으로 만 사용합니다. "
   ]
  },
  {
   "cell_type": "markdown",
   "metadata": {
    "id": "l-3xqy_ga4KO"
   },
   "source": [
    "## import 하기"
   ]
  },
  {
   "cell_type": "markdown",
   "metadata": {
    "id": "Aj9EzELCa8FN"
   },
   "source": [
    "필요한 모듈을 import 합니다."
   ]
  },
  {
   "cell_type": "code",
   "execution_count": 1,
   "metadata": {
    "id": "G9M_SARJnil5"
   },
   "outputs": [],
   "source": [
    "import numpy as np\n",
    "import matplotlib.pyplot as plt\n",
    "import tensorflow as tf\n",
    "\n",
    "from tensorflow.keras.layers import Dense, Flatten\n",
    "from tensorflow.keras.models import Sequential\n",
    "from tensorflow.keras.callbacks import ModelCheckpoint"
   ]
  },
  {
   "cell_type": "markdown",
   "metadata": {
    "id": "2HGYCJ1Tnil7"
   },
   "source": [
    "## Load dataset"
   ]
  },
  {
   "cell_type": "markdown",
   "metadata": {
    "id": "Kg0sXFW2nil7"
   },
   "source": [
    "**tf.keras.datasets** 에는 다양한 샘플 데이터를 제공해줍니다."
   ]
  },
  {
   "cell_type": "markdown",
   "metadata": {
    "id": "45rVXT4tnil8"
   },
   "source": [
    "[tf.keras.datasets](https://www.tensorflow.org/api_docs/python/tf/keras/datasets)\n",
    "\n",
    "* **boston_housing**: Boston housing price regression dataset.\n",
    "\n",
    "* **cifar10**: CIFAR10 small images classification dataset.\n",
    "\n",
    "* **cifar100**: CIFAR100 small images classification dataset.\n",
    "\n",
    "* **fashion_mnist**: Fashion-MNIST dataset.\n",
    "\n",
    "* **imdb**: IMDB sentiment classification dataset.\n",
    "\n",
    "* **mnist**: MNIST handwritten digits dataset.\n",
    "\n",
    "* **reuters**: Reuters topic classification dataset."
   ]
  },
  {
   "cell_type": "code",
   "execution_count": 2,
   "metadata": {
    "id": "nWsdj7Dgnil8"
   },
   "outputs": [],
   "source": [
    "fashion_mnist = tf.keras.datasets.fashion_mnist"
   ]
  },
  {
   "cell_type": "markdown",
   "metadata": {
    "id": "H05dHM_HoSYO"
   },
   "source": [
    "아래 순서가 헷갈릴 수 있습니다. 순서에 유의해 주세요."
   ]
  },
  {
   "cell_type": "code",
   "execution_count": 3,
   "metadata": {
    "colab": {
     "base_uri": "https://localhost:8080/",
     "height": 155
    },
    "id": "JWSZUSoWnil_",
    "outputId": "24499566-59f1-4625-a8d8-d30c25360860"
   },
   "outputs": [
    {
     "name": "stdout",
     "output_type": "stream",
     "text": [
      "Downloading data from https://storage.googleapis.com/tensorflow/tf-keras-datasets/train-labels-idx1-ubyte.gz\n",
      "32768/29515 [=================================] - 0s 1us/step\n",
      "Downloading data from https://storage.googleapis.com/tensorflow/tf-keras-datasets/train-images-idx3-ubyte.gz\n",
      "26427392/26421880 [==============================] - 9s 0us/step\n",
      "Downloading data from https://storage.googleapis.com/tensorflow/tf-keras-datasets/t10k-labels-idx1-ubyte.gz\n",
      "8192/5148 [===============================================] - 0s 0us/step\n",
      "Downloading data from https://storage.googleapis.com/tensorflow/tf-keras-datasets/t10k-images-idx3-ubyte.gz\n",
      "4423680/4422102 [==============================] - 1s 0us/step\n"
     ]
    }
   ],
   "source": [
    "(x_train, y_train), (x_valid, y_valid) = fashion_mnist.load_data()"
   ]
  },
  {
   "cell_type": "code",
   "execution_count": 6,
   "metadata": {
    "colab": {
     "base_uri": "https://localhost:8080/",
     "height": 34
    },
    "id": "tQINRel7nimB",
    "outputId": "48c7a629-3408-44f7-920d-ca1afdcee11d"
   },
   "outputs": [
    {
     "data": {
      "text/plain": [
       "((60000, 28, 28), (10000, 28, 28))"
      ]
     },
     "execution_count": 6,
     "metadata": {},
     "output_type": "execute_result"
    }
   ],
   "source": [
    "x_train.shape, x_valid.shape  # (60000, 28,28) : 60000개, 28*28 img, 흑백"
   ]
  },
  {
   "cell_type": "code",
   "execution_count": 5,
   "metadata": {
    "colab": {
     "base_uri": "https://localhost:8080/",
     "height": 34
    },
    "id": "RBAF0elZbNii",
    "outputId": "b2ad16c8-6d7d-42bc-ef42-5f7ef27e3705"
   },
   "outputs": [
    {
     "data": {
      "text/plain": [
       "((60000,), (10000,))"
      ]
     },
     "execution_count": 5,
     "metadata": {},
     "output_type": "execute_result"
    }
   ],
   "source": [
    "y_train.shape, y_valid.shape"
   ]
  },
  {
   "cell_type": "markdown",
   "metadata": {
    "id": "JwOpcgkRny5W"
   },
   "source": [
    "**이미지 정규화 (Normalization)**\n",
    "\n",
    "* 모든 이미지 픽셀(pixel)값들을 0~1 사이의 값으로 정규화 해 줍니다.\n",
    "* x_train, x_valid 에 대해서만 정규화합니다."
   ]
  },
  {
   "cell_type": "markdown",
   "metadata": {
    "id": "BPF65YnpO7-8"
   },
   "source": [
    "정규화(Normalization) 전의 최소값(min), 최대값(max)을 확인합니다."
   ]
  },
  {
   "cell_type": "code",
   "execution_count": 7,
   "metadata": {
    "id": "psrsKNe7PFrn"
   },
   "outputs": [
    {
     "data": {
      "text/plain": [
       "(0, 255)"
      ]
     },
     "execution_count": 7,
     "metadata": {},
     "output_type": "execute_result"
    }
   ],
   "source": [
    "x_train.min(), x_train.max()"
   ]
  },
  {
   "cell_type": "markdown",
   "metadata": {
    "id": "MEt2ouXDPJej"
   },
   "source": [
    "정규화(Normalization) 합니다."
   ]
  },
  {
   "cell_type": "code",
   "execution_count": 8,
   "metadata": {
    "id": "lFArqzZCntDh"
   },
   "outputs": [],
   "source": [
    "x_train = x_train / 255.0\n",
    "x_valid = x_valid / 255.0"
   ]
  },
  {
   "cell_type": "markdown",
   "metadata": {},
   "source": [
    "정규화를 하면 분산이 줄어듬 "
   ]
  },
  {
   "cell_type": "markdown",
   "metadata": {
    "id": "dZK1P_g4PNCy"
   },
   "source": [
    "정규화 후 최소값/최대값 확인"
   ]
  },
  {
   "cell_type": "code",
   "execution_count": 9,
   "metadata": {
    "id": "FWJTNdezPQ2h"
   },
   "outputs": [
    {
     "data": {
      "text/plain": [
       "(0.0, 1.0)"
      ]
     },
     "execution_count": 9,
     "metadata": {},
     "output_type": "execute_result"
    }
   ],
   "source": [
    "x_train.min(), x_train.max()"
   ]
  },
  {
   "cell_type": "markdown",
   "metadata": {
    "id": "3ROhwEP_nimE"
   },
   "source": [
    "## 샘플 데이터 Visualization"
   ]
  },
  {
   "cell_type": "code",
   "execution_count": 10,
   "metadata": {
    "colab": {
     "base_uri": "https://localhost:8080/",
     "height": 349
    },
    "id": "NdTUcqRDnimE",
    "outputId": "1f12aa6b-5a99-49db-c36c-ee2344223c7f"
   },
   "outputs": [
    {
     "data": {
      "image/png": "[encoded data removed]",
      "text/plain": [
       "<Figure size 720x360 with 10 Axes>"
      ]
     },
     "metadata": {},
     "output_type": "display_data"
    }
   ],
   "source": [
    "# 시각화\n",
    "fig, axes = plt.subplots(2, 5)\n",
    "fig.set_size_inches(10, 5)\n",
    "\n",
    "for i in range(10):\n",
    "    axes[i//5, i%5].imshow(x_train[i], cmap='gray')\n",
    "    axes[i//5, i%5].set_title(str(y_train[i]), fontsize=15)\n",
    "    plt.setp( axes[i//5, i%5].get_xticklabels(), visible=False)\n",
    "    plt.setp( axes[i//5, i%5].get_yticklabels(), visible=False)\n",
    "    axes[i//5, i%5].axis('off')\n",
    "\n",
    "plt.tight_layout()\n",
    "plt.show()"
   ]
  },
  {
   "cell_type": "markdown",
   "metadata": {
    "id": "jm4hXKxKbXLk"
   },
   "source": [
    "* 0: 티셔츠/탑\n",
    "* 1: 바지\n",
    "* 2: 풀오버(스웨터의 일종)\n",
    "* 3: 드레스\n",
    "* 4: 코트\n",
    "* 5: 샌들\n",
    "* 6: 셔츠\n",
    "* 7: 스니커즈\n",
    "* 8: 가방\n",
    "* 9: 앵클 부츠"
   ]
  },
  {
   "cell_type": "markdown",
   "metadata": {
    "id": "r6lRzZLGnimH"
   },
   "source": [
    "## Flatten Layer"
   ]
  },
  {
   "cell_type": "markdown",
   "metadata": {
    "id": "8US56qQKnimI"
   },
   "source": [
    "**Flatten이란?**\n",
    "\n",
    "* 고차원을 1D로 변환하여 **Dense Layer에 전달**해 주기 위하여 사용합니다.\n",
    "* 28 X 28 의 **2D**로 되어 있는 이미지를 784로 **1D로 펼쳐 주는 작업**입니다."
   ]
  },
  {
   "cell_type": "code",
   "execution_count": 11,
   "metadata": {
    "id": "LEMQwOUfcDLN"
   },
   "outputs": [],
   "source": [
    "tf.keras.backend.set_floatx('float64')"
   ]
  },
  {
   "cell_type": "markdown",
   "metadata": {
    "id": "G3vxGKQFcIM1"
   },
   "source": [
    "**변환 전**"
   ]
  },
  {
   "cell_type": "code",
   "execution_count": 12,
   "metadata": {
    "colab": {
     "base_uri": "https://localhost:8080/",
     "height": 34
    },
    "id": "T9zXLgI2nimI",
    "outputId": "7b350a91-f41f-47af-d109-80116f59ea18"
   },
   "outputs": [
    {
     "data": {
      "text/plain": [
       "(60000, 28, 28)"
      ]
     },
     "execution_count": 12,
     "metadata": {},
     "output_type": "execute_result"
    }
   ],
   "source": [
    "x_train.shape"
   ]
  },
  {
   "cell_type": "markdown",
   "metadata": {
    "id": "6fWhekBScMtW"
   },
   "source": [
    "**Flatten 적용 후**"
   ]
  },
  {
   "cell_type": "code",
   "execution_count": 13,
   "metadata": {
    "colab": {
     "base_uri": "https://localhost:8080/",
     "height": 34
    },
    "id": "68jpK460nimL",
    "outputId": "57253fc7-e133-47f7-98e5-2ea0b3d30a5f"
   },
   "outputs": [
    {
     "name": "stdout",
     "output_type": "stream",
     "text": [
      "(60000, 784)\n"
     ]
    }
   ],
   "source": [
    "x = Flatten(input_shape=(28, 28))\n",
    "print(x(x_train).shape)   # 784 = 28*28 "
   ]
  },
  {
   "cell_type": "markdown",
   "metadata": {
    "id": "lrNFGpU4nimZ"
   },
   "source": [
    "## 활성함수 (relu, sigmoid, softmax)"
   ]
  },
  {
   "cell_type": "code",
   "execution_count": 14,
   "metadata": {
    "id": "ZHztkvVXcfJs"
   },
   "outputs": [],
   "source": [
    "from IPython.display import Image\n",
    "import numpy as np\n",
    "import matplotlib.pyplot as plt"
   ]
  },
  {
   "cell_type": "markdown",
   "metadata": {
    "id": "G-imd0h5fcJ-"
   },
   "source": [
    "### relu"
   ]
  },
  {
   "cell_type": "code",
   "execution_count": 15,
   "metadata": {
    "id": "bp6jZrlenimc"
   },
   "outputs": [],
   "source": [
    "def relu(x):\n",
    "    return np.maximum(x, 0)"
   ]
  },
  {
   "cell_type": "code",
   "execution_count": 16,
   "metadata": {
    "id": "DKy6nS3pnime"
   },
   "outputs": [],
   "source": [
    "x = np.linspace(-10, 10)\n",
    "y = relu(x)"
   ]
  },
  {
   "cell_type": "code",
   "execution_count": 17,
   "metadata": {
    "colab": {
     "base_uri": "https://localhost:8080/",
     "height": 444
    },
    "id": "cbEbU8wKnimh",
    "outputId": "6efe90ae-afdf-4ca3-f4d3-7950040a70f3"
   },
   "outputs": [
    {
     "data": {
      "image/png": "[encoded data removed]",
      "text/plain": [
       "<Figure size 720x504 with 1 Axes>"
      ]
     },
     "metadata": {
      "needs_background": "light"
     },
     "output_type": "display_data"
    }
   ],
   "source": [
    "plt.figure(figsize=(10, 7))\n",
    "plt.plot(x, y)\n",
    "plt.title('ReLU activation function')\n",
    "plt.show()"
   ]
  },
  {
   "cell_type": "markdown",
   "metadata": {
    "id": "scB0bIEOnimj"
   },
   "source": [
    "**Dense Layer에 ReLU activation 적용**"
   ]
  },
  {
   "cell_type": "code",
   "execution_count": 18,
   "metadata": {
    "colab": {
     "base_uri": "https://localhost:8080/",
     "height": 34
    },
    "id": "J-h1CkySnimk",
    "outputId": "32fd8bb0-c3ba-4dd4-bb51-65d70d40c74f"
   },
   "outputs": [
    {
     "data": {
      "text/plain": [
       "<tensorflow.python.keras.layers.core.Dense at 0x16f1692c520>"
      ]
     },
     "execution_count": 18,
     "metadata": {},
     "output_type": "execute_result"
    }
   ],
   "source": [
    "Dense(20, activation='relu')"
   ]
  },
  {
   "cell_type": "markdown",
   "metadata": {
    "id": "IMI3Z9C7fIrf"
   },
   "source": [
    "### Sigmoid\n"
   ]
  },
  {
   "cell_type": "markdown",
   "metadata": {
    "id": "7ZINPMe4f6YG"
   },
   "source": [
    "\n",
    "\n",
    "$\\displaystyle s(z) = \\frac{1}{1+e^{-z}}$\n",
    "\n",
    "$z$ 값을 0과 1사이의 값으로 바꾸는 함수\n",
    "\n",
    "**Sigmoid 함수 원리**\n",
    "\n",
    "$\\frac{1}{1} = 1$인데, 분모 1에다 0보다 크거나 같은 어떤 수를 더 하면 그 결과는 1 보다 클수 없다.\n",
    "\n",
    "분모에 더 할 값은 $e^{-z}$, 이 값은 어떤 $z$가 주어져도 0보다 작아 지지 않는다.\n",
    "\n",
    "$e^{-z}$는 $z$의 값이 크면 클 수록 0에 가까운 작은 수가 되고 $z$값이 작으면 무한대에 가까운 큰 수가 된다\n",
    "\n",
    "따라서 $z$의 값이 크면 $e^{-z}$의 값이 작아져서 $\\frac{1}{1+e^{-z}}$의 값은 1에 가까워 지고 그 반대는 0에 가까워 진다.\n"
   ]
  },
  {
   "cell_type": "code",
   "execution_count": 19,
   "metadata": {
    "id": "JRvVtsCdiPxT"
   },
   "outputs": [],
   "source": [
    "def sigmoid(z):\n",
    "    return  1/(1+np.exp(-z))"
   ]
  },
  {
   "cell_type": "code",
   "execution_count": 20,
   "metadata": {
    "colab": {
     "base_uri": "https://localhost:8080/",
     "height": 428
    },
    "id": "O0obfqMxiOuN",
    "outputId": "0fc0ae7c-f183-4557-a041-8adc2a3a03e3"
   },
   "outputs": [
    {
     "data": {
      "image/png": "[encoded data removed]",
      "text/plain": [
       "<Figure size 720x504 with 1 Axes>"
      ]
     },
     "metadata": {
      "needs_background": "light"
     },
     "output_type": "display_data"
    }
   ],
   "source": [
    "plt.figure(figsize=(10, 7))\n",
    "\n",
    "x = np.arange(-10, 10)\n",
    "y = sigmoid(x)\n",
    "\n",
    "plt.plot(x, y)\n",
    "plt.show()"
   ]
  },
  {
   "cell_type": "markdown",
   "metadata": {
    "id": "WS9NPzGPnimm"
   },
   "source": [
    "### Softmax"
   ]
  },
  {
   "cell_type": "markdown",
   "metadata": {
    "id": "MIeuj7rac4XU"
   },
   "source": [
    "뉴런의 출력값에 대하여 class 분류를 위하여 마지막 단계에서 출력값에 대한 정규화를 해주는 함수이다."
   ]
  },
  {
   "cell_type": "markdown",
   "metadata": {
    "id": "_ij5kTRgc7Fv"
   },
   "source": [
    "사진속 인물이 지금 슬픈 표정인지, 웃는 표정인지, 화난 표정인지 확률적으로 수치화한다고 했을때,\n",
    "\n",
    "슬픔 (11%), 웃음 (29%), 화남(60%) 화같이 확률적 classification 을 할 때 용이하다.\n",
    "\n",
    "소프트맥스 함수의 특징은 **확률의 합은 언제나 1.0** 이다."
   ]
  },
  {
   "cell_type": "code",
   "execution_count": 21,
   "metadata": {
    "colab": {
     "base_uri": "https://localhost:8080/",
     "height": 147
    },
    "id": "vi-7nWiGnimo",
    "outputId": "f6a1b62d-be35-4824-a5cf-cff2e5103f79"
   },
   "outputs": [
    {
     "data": {
      "image/jpeg": "[encoded data removed]",
      "text/plain": [
       "<IPython.core.display.Image object>"
      ]
     },
     "execution_count": 21,
     "metadata": {},
     "output_type": "execute_result"
    }
   ],
   "source": [
    "Image('https://i.stack.imgur.com/wxJKQ.jpg')"
   ]
  },
  {
   "cell_type": "code",
   "execution_count": 22,
   "metadata": {
    "colab": {
     "base_uri": "https://localhost:8080/",
     "height": 136
    },
    "id": "yrb1_CwmdKVs",
    "outputId": "efdee0e4-d713-431f-fe4b-de4fb8267d4c"
   },
   "outputs": [
    {
     "name": "stdout",
     "output_type": "stream",
     "text": [
      "Class 별 확률 값 출력\n",
      "==============================\n",
      "Class 0 의 확률: 0.277\n",
      "Class 1 의 확률: 0.204\n",
      "Class 2 의 확률: 0.520\n",
      "==============================\n",
      "Class 별 확률 값의 합: 1.0\n"
     ]
    }
   ],
   "source": [
    "import numpy as np\n",
    "\n",
    "a = np.random.uniform(low=0.0, high=10.0, size=3)\n",
    "\n",
    "def softmax(a) :\n",
    "    exp_a = np.exp(a)\n",
    "    sum_exp_a = np.sum(exp_a)\n",
    "    y = exp_a / sum_exp_a\n",
    "    return y\n",
    "\n",
    "y = softmax(a)\n",
    "print('Class 별 확률 값 출력')\n",
    "print('===' * 10)\n",
    "for i in range(3):\n",
    "    print('Class {} 의 확률: {:.3f}'.format(i, y[i]))\n",
    "print('===' * 10)\n",
    "print('Class 별 확률 값의 합: {:.1f}'.format(y.sum()))"
   ]
  },
  {
   "cell_type": "markdown",
   "metadata": {
    "id": "09ief1f7dWTo"
   },
   "source": [
    "다중분류의 맨 마지막 출력층 활성함수로는 Dense layer에 'softmax'를 적용합니다.\n",
    "\n",
    "* 단, Dense 레이어의 unit이 2보다 크거나 같은 경우에만 해당합니다. (만약, 1이라면 'sigmoid'를 활성함수로 설정합니다)"
   ]
  },
  {
   "cell_type": "code",
   "execution_count": 23,
   "metadata": {
    "colab": {
     "base_uri": "https://localhost:8080/",
     "height": 35
    },
    "id": "8KldDsW4nim2",
    "outputId": "f587fd4a-1fca-4160-e5ea-ccddb7b41229"
   },
   "outputs": [
    {
     "data": {
      "text/plain": [
       "<tensorflow.python.keras.layers.core.Dense at 0x16f169cd940>"
      ]
     },
     "execution_count": 23,
     "metadata": {},
     "output_type": "execute_result"
    }
   ],
   "source": [
    "Dense(10, activation='softmax')"
   ]
  },
  {
   "cell_type": "markdown",
   "metadata": {
    "id": "D6B3UzpUnim4"
   },
   "source": [
    "## 모델 정의 (Sequential)"
   ]
  },
  {
   "cell_type": "markdown",
   "metadata": {
    "id": "azRvYVbQnim5"
   },
   "source": [
    "이제 Modeling을 할 차례입니다.\n",
    "\n",
    "`Sequential` 모델 안에서 층을 깊게 쌓아 올려 주면 됩니다.\n",
    "\n",
    "1. Dense 레이어는 2D 형태의 데이터를 받아들이지 못합니다. Flatten 레이어로 2D -> 1D로 변환해주세요\n",
    "2. 깊은 출력층과 더 많은 Layer를 쌓습니다.\n",
    "3. Dense Layer에 `activation='relu'`를 적용합니다.\n",
    "4. 분류(Classification)의 마지막 층의 출력 숫자는 분류하고자 하는 클래스 갯수와 **같아야** 합니다.\n"
   ]
  },
  {
   "cell_type": "code",
   "execution_count": 25,
   "metadata": {},
   "outputs": [
    {
     "data": {
      "text/plain": [
       "(60000, 28, 28)"
      ]
     },
     "execution_count": 25,
     "metadata": {},
     "output_type": "execute_result"
    }
   ],
   "source": [
    "x_train.shape  #여기서 28, 28만 가져옴 28*28 이 input shape니깐"
   ]
  },
  {
   "cell_type": "code",
   "execution_count": 26,
   "metadata": {
    "id": "PCDinGHSnim5"
   },
   "outputs": [],
   "source": [
    "model = Sequential([\n",
    "    # Flatten으로 shape 펼치기\n",
    "    Flatten(input_shape=(28, 28)),\n",
    "    # Dense Layer\n",
    "    Dense(1024, activation='relu'),\n",
    "    Dense(512, activation='relu'),\n",
    "    Dense(256, activation='relu'),\n",
    "    Dense(128, activation='relu'),\n",
    "    Dense(64, activation='relu'),\n",
    "    # Classification을 위한 Softmax \n",
    "    Dense(10, activation='softmax'),  # 10개로 분류 >> softmax\n",
    "])"
   ]
  },
  {
   "cell_type": "code",
   "execution_count": 27,
   "metadata": {
    "colab": {
     "base_uri": "https://localhost:8080/",
     "height": 391
    },
    "id": "5u4rp7tB-4A1",
    "outputId": "d8cbd782-e8da-4e83-d7ea-e2ac23d41666"
   },
   "outputs": [
    {
     "name": "stdout",
     "output_type": "stream",
     "text": [
      "Model: \"sequential_1\"\n",
      "_________________________________________________________________\n",
      "Layer (type)                 Output Shape              Param #   \n",
      "=================================================================\n",
      "flatten_2 (Flatten)          (None, 784)               0         \n",
      "_________________________________________________________________\n",
      "dense_8 (Dense)              (None, 1024)              803840    \n",
      "_________________________________________________________________\n",
      "dense_9 (Dense)              (None, 512)               524800    \n",
      "_________________________________________________________________\n",
      "dense_10 (Dense)             (None, 256)               131328    \n",
      "_________________________________________________________________\n",
      "dense_11 (Dense)             (None, 128)               32896     \n",
      "_________________________________________________________________\n",
      "dense_12 (Dense)             (None, 64)                8256      \n",
      "_________________________________________________________________\n",
      "dense_13 (Dense)             (None, 10)                650       \n",
      "=================================================================\n",
      "Total params: 1,501,770\n",
      "Trainable params: 1,501,770\n",
      "Non-trainable params: 0\n",
      "_________________________________________________________________\n"
     ]
    }
   ],
   "source": [
    "model.summary()"
   ]
  },
  {
   "cell_type": "markdown",
   "metadata": {
    "id": "wnmQV-fDnim8"
   },
   "source": [
    "## 컴파일 (compile)"
   ]
  },
  {
   "cell_type": "markdown",
   "metadata": {
    "id": "pHQ1abHXK8e9"
   },
   "source": [
    "1. `optimizer`는 가장 최적화가 잘되는 알고리즘인 'adam'을 사용합니다.\n",
    "2. `loss`설정\n",
    "  * 출력층 activation이 `sigmoid` 인 경우: `binary_crossentropy`\n",
    "  * 출력층 activation이 `softmax` 인 경우: \n",
    "    * 원핫인코딩(O): `categorical_crossentropy`\n",
    "    * 원핫인코딩(X): `sparse_categorical_crossentropy`)\n",
    "3. `metrics`를 'acc' 혹은 'accuracy'로 지정하면, 학습시 정확도를 모니터링 할 수 있습니다."
   ]
  },
  {
   "cell_type": "markdown",
   "metadata": {
    "id": "QIhoCbT7ggE6"
   },
   "source": [
    "**원핫인코딩 여부 체크방법**"
   ]
  },
  {
   "cell_type": "markdown",
   "metadata": {
    "id": "fy8ubEBUhSWc"
   },
   "source": [
    "케이스 1: 원핫인코딩 (X) "
   ]
  },
  {
   "cell_type": "code",
   "execution_count": 28,
   "metadata": {
    "colab": {
     "base_uri": "https://localhost:8080/",
     "height": 34
    },
    "id": "Yv2PHWQ2_C8N",
    "outputId": "5ca27f59-a7c4-42f1-cd00-7090448b3018"
   },
   "outputs": [
    {
     "data": {
      "text/plain": [
       "9"
      ]
     },
     "execution_count": 28,
     "metadata": {},
     "output_type": "execute_result"
    }
   ],
   "source": [
    "y_train[0]"
   ]
  },
  {
   "cell_type": "markdown",
   "metadata": {
    "id": "Bdn3dV7whepf"
   },
   "source": [
    "케이스 2: 원핫인코딩 (O) "
   ]
  },
  {
   "cell_type": "code",
   "execution_count": 29,
   "metadata": {
    "colab": {
     "base_uri": "https://localhost:8080/",
     "height": 34
    },
    "id": "0oxwTCpbhVJF",
    "outputId": "351512fe-0ed0-4da5-c9ec-c72a3949f3db"
   },
   "outputs": [
    {
     "name": "stdout",
     "output_type": "stream",
     "text": [
      "tf.Tensor([0. 0. 0. 0. 0. 0. 0. 0. 0. 1.], shape=(10,), dtype=float32)\n"
     ]
    }
   ],
   "source": [
    "print(tf.one_hot(y_train[0], 10))"
   ]
  },
  {
   "cell_type": "markdown",
   "metadata": {
    "id": "eXGMljJQhmp_"
   },
   "source": [
    "model.compile()"
   ]
  },
  {
   "cell_type": "code",
   "execution_count": 30,
   "metadata": {
    "id": "QCLw6RMZnim-"
   },
   "outputs": [],
   "source": [
    "model.compile(optimizer='adam', loss='sparse_categorical_crossentropy', metrics=['acc'])"
   ]
  },
  {
   "cell_type": "markdown",
   "metadata": {
    "id": "NyLUPgGCninB"
   },
   "source": [
    "## ModelCheckpoint: 체크포인트 생성"
   ]
  },
  {
   "cell_type": "markdown",
   "metadata": {
    "id": "46Oi04ZMLtEB"
   },
   "source": [
    "`val_loss` 기준으로 epoch 마다 최적의 모델을 저장하기 위하여, ModelCheckpoint를 만듭니다.\n",
    "* `checkpoint_path`는 모델이 저장될 파일 명을 설정합니다.\n",
    "* `ModelCheckpoint`을 선언하고, 적절한 옵션 값을 지정합니다."
   ]
  },
  {
   "cell_type": "code",
   "execution_count": 31,
   "metadata": {
    "id": "qJwGq3PoninB"
   },
   "outputs": [],
   "source": [
    "checkpoint_path = \"my_checkpoint.ckpt\"\n",
    "checkpoint = ModelCheckpoint(filepath=checkpoint_path, \n",
    "                             save_weights_only=True, \n",
    "                             save_best_only=True, \n",
    "                             monitor='val_loss', \n",
    "                             verbose=1)"
   ]
  },
  {
   "cell_type": "markdown",
   "metadata": {
    "id": "v3mjb5EAninE"
   },
   "source": [
    "## 학습 (fit)"
   ]
  },
  {
   "cell_type": "markdown",
   "metadata": {
    "id": "3-X6hK_DMYZH"
   },
   "source": [
    "1. `validation_data`를 반드시 지정합니다.\n",
    "2. `epochs`을 적절하게 지정합니다.\n",
    "3. `callbacks`에 바로 위에서 만든 checkpoint를 지정합니다."
   ]
  },
  {
   "cell_type": "code",
   "execution_count": 32,
   "metadata": {
    "colab": {
     "base_uri": "https://localhost:8080/",
     "height": 1000
    },
    "id": "2uHXDA_vninF",
    "outputId": "53f8208b-3035-4fc7-b785-4fa8815ad937"
   },
   "outputs": [
    {
     "name": "stdout",
     "output_type": "stream",
     "text": [
      "Epoch 1/20\n",
      "1875/1875 [==============================] - 19s 9ms/step - loss: 0.5049 - acc: 0.8174 - val_loss: 0.4220 - val_acc: 0.8473\n",
      "\n",
      "Epoch 00001: val_loss improved from inf to 0.42196, saving model to my_checkpoint.ckpt\n",
      "Epoch 2/20\n",
      "1875/1875 [==============================] - 17s 9ms/step - loss: 0.3801 - acc: 0.8628 - val_loss: 0.3787 - val_acc: 0.8664\n",
      "\n",
      "Epoch 00002: val_loss improved from 0.42196 to 0.37875, saving model to my_checkpoint.ckpt\n",
      "Epoch 3/20\n",
      "1875/1875 [==============================] - 15s 8ms/step - loss: 0.3412 - acc: 0.8761 - val_loss: 0.3616 - val_acc: 0.8651\n",
      "\n",
      "Epoch 00003: val_loss improved from 0.37875 to 0.36156, saving model to my_checkpoint.ckpt\n",
      "Epoch 4/20\n",
      "1875/1875 [==============================] - 16s 8ms/step - loss: 0.3159 - acc: 0.8859 - val_loss: 0.3925 - val_acc: 0.8682\n",
      "\n",
      "Epoch 00004: val_loss did not improve from 0.36156\n",
      "Epoch 5/20\n",
      "1875/1875 [==============================] - 16s 8ms/step - loss: 0.2976 - acc: 0.8891 - val_loss: 0.3654 - val_acc: 0.8705\n",
      "\n",
      "Epoch 00005: val_loss did not improve from 0.36156\n",
      "Epoch 6/20\n",
      "1875/1875 [==============================] - 16s 8ms/step - loss: 0.2821 - acc: 0.8963 - val_loss: 0.3564 - val_acc: 0.8697\n",
      "\n",
      "Epoch 00006: val_loss improved from 0.36156 to 0.35644, saving model to my_checkpoint.ckpt\n",
      "Epoch 7/20\n",
      "1875/1875 [==============================] - 16s 8ms/step - loss: 0.2675 - acc: 0.9004 - val_loss: 0.3572 - val_acc: 0.8785\n",
      "\n",
      "Epoch 00007: val_loss did not improve from 0.35644\n",
      "Epoch 8/20\n",
      "1875/1875 [==============================] - 16s 8ms/step - loss: 0.2608 - acc: 0.9032 - val_loss: 0.3480 - val_acc: 0.8787\n",
      "\n",
      "Epoch 00008: val_loss improved from 0.35644 to 0.34804, saving model to my_checkpoint.ckpt\n",
      "Epoch 9/20\n",
      "1875/1875 [==============================] - 16s 8ms/step - loss: 0.2492 - acc: 0.9074 - val_loss: 0.3313 - val_acc: 0.8828\n",
      "\n",
      "Epoch 00009: val_loss improved from 0.34804 to 0.33130, saving model to my_checkpoint.ckpt\n",
      "Epoch 10/20\n",
      "1875/1875 [==============================] - 16s 8ms/step - loss: 0.2401 - acc: 0.9108 - val_loss: 0.4001 - val_acc: 0.8729\n",
      "\n",
      "Epoch 00010: val_loss did not improve from 0.33130\n",
      "Epoch 11/20\n",
      "1875/1875 [==============================] - 16s 8ms/step - loss: 0.2324 - acc: 0.9136 - val_loss: 0.3364 - val_acc: 0.8897\n",
      "\n",
      "Epoch 00011: val_loss did not improve from 0.33130\n",
      "Epoch 12/20\n",
      "1875/1875 [==============================] - 16s 8ms/step - loss: 0.2205 - acc: 0.9167 - val_loss: 0.3551 - val_acc: 0.8841\n",
      "\n",
      "Epoch 00012: val_loss did not improve from 0.33130\n",
      "Epoch 13/20\n",
      "1875/1875 [==============================] - 16s 8ms/step - loss: 0.2173 - acc: 0.9187 - val_loss: 0.3633 - val_acc: 0.8767\n",
      "\n",
      "Epoch 00013: val_loss did not improve from 0.33130\n",
      "Epoch 14/20\n",
      "1875/1875 [==============================] - 16s 8ms/step - loss: 0.2113 - acc: 0.9202 - val_loss: 0.3250 - val_acc: 0.8938\n",
      "\n",
      "Epoch 00014: val_loss improved from 0.33130 to 0.32495, saving model to my_checkpoint.ckpt\n",
      "Epoch 15/20\n",
      "1875/1875 [==============================] - 16s 8ms/step - loss: 0.2037 - acc: 0.9225 - val_loss: 0.3317 - val_acc: 0.8899\n",
      "\n",
      "Epoch 00015: val_loss did not improve from 0.32495\n",
      "Epoch 16/20\n",
      "1875/1875 [==============================] - 16s 8ms/step - loss: 0.1960 - acc: 0.9257 - val_loss: 0.3549 - val_acc: 0.8907\n",
      "\n",
      "Epoch 00016: val_loss did not improve from 0.32495\n",
      "Epoch 17/20\n",
      "1875/1875 [==============================] - 16s 8ms/step - loss: 0.1905 - acc: 0.9282 - val_loss: 0.3770 - val_acc: 0.8948\n",
      "\n",
      "Epoch 00017: val_loss did not improve from 0.32495\n",
      "Epoch 18/20\n",
      "1875/1875 [==============================] - 16s 8ms/step - loss: 0.1898 - acc: 0.9281 - val_loss: 0.3640 - val_acc: 0.8901\n",
      "\n",
      "Epoch 00018: val_loss did not improve from 0.32495\n",
      "Epoch 19/20\n",
      "1875/1875 [==============================] - 16s 8ms/step - loss: 0.1817 - acc: 0.9314 - val_loss: 0.3552 - val_acc: 0.8919\n",
      "\n",
      "Epoch 00019: val_loss did not improve from 0.32495\n",
      "Epoch 20/20\n",
      "1875/1875 [==============================] - 16s 8ms/step - loss: 0.1750 - acc: 0.9339 - val_loss: 0.3878 - val_acc: 0.8854\n",
      "\n",
      "Epoch 00020: val_loss did not improve from 0.32495\n"
     ]
    }
   ],
   "source": [
    "history = model.fit(x_train, y_train,\n",
    "                    validation_data=(x_valid, y_valid),\n",
    "                    epochs=20,\n",
    "                    callbacks=[checkpoint],\n",
    "                   )"
   ]
  },
  {
   "cell_type": "markdown",
   "metadata": {
    "id": "wwnduSgRiBw8"
   },
   "source": [
    "## 학습 완료 후 Load Weights (ModelCheckpoint)"
   ]
  },
  {
   "cell_type": "markdown",
   "metadata": {
    "id": "kLqb_6XrMvdq"
   },
   "source": [
    "학습이 완료된 후에는 반드시 `load_weights`를 해주어야 합니다.\n",
    "\n",
    "그렇지 않으면, 열심히 ModelCheckpoint를 만든 의미가 없습니다."
   ]
  },
  {
   "cell_type": "code",
   "execution_count": 33,
   "metadata": {
    "id": "4jO1ucZ9ninH"
   },
   "outputs": [
    {
     "data": {
      "text/plain": [
       "<tensorflow.python.training.tracking.util.CheckpointLoadStatus at 0x16f169ebb80>"
      ]
     },
     "execution_count": 33,
     "metadata": {},
     "output_type": "execute_result"
    }
   ],
   "source": [
    "# checkpoint 를 저장한 파일명을 입력합니다.\n",
    "model.load_weights(checkpoint_path)"
   ]
  },
  {
   "cell_type": "markdown",
   "metadata": {
    "id": "3nVIYnIuPaPR"
   },
   "source": [
    "## 학습한 후 검증하고 싶다면?"
   ]
  },
  {
   "cell_type": "code",
   "execution_count": 34,
   "metadata": {
    "id": "lxt8cK6pPdmb"
   },
   "outputs": [
    {
     "name": "stdout",
     "output_type": "stream",
     "text": [
      "313/313 [==============================] - 2s 6ms/step - loss: 0.3250 - acc: 0.8938\n"
     ]
    },
    {
     "data": {
      "text/plain": [
       "[0.32495256569981573, 0.8938]"
      ]
     },
     "execution_count": 34,
     "metadata": {},
     "output_type": "execute_result"
    }
   ],
   "source": [
    "model.evaluate(x_valid, y_valid)"
   ]
  },
  {
   "cell_type": "markdown",
   "metadata": {
    "id": "95cG8SGdninJ"
   },
   "source": [
    "## 학습 Loss (오차)에 대한 시각화"
   ]
  },
  {
   "cell_type": "code",
   "execution_count": 35,
   "metadata": {
    "id": "y_xoc7AlninJ"
   },
   "outputs": [
    {
     "data": {
      "image/png": "[encoded data removed]",
      "text/plain": [
       "<Figure size 864x648 with 1 Axes>"
      ]
     },
     "metadata": {
      "needs_background": "light"
     },
     "output_type": "display_data"
    }
   ],
   "source": [
    "plt.figure(figsize=(12, 9))\n",
    "plt.plot(np.arange(1, 21), history.history['loss'])\n",
    "plt.plot(np.arange(1, 21), history.history['val_loss'])\n",
    "plt.title('Loss / Val Loss', fontsize=20)\n",
    "plt.xlabel('Epochs')\n",
    "plt.ylabel('Loss')\n",
    "plt.legend(['loss', 'val_loss'], fontsize=15)\n",
    "plt.show()"
   ]
  },
  {
   "cell_type": "code",
   "execution_count": 36,
   "metadata": {
    "id": "2iSgnD3fninN"
   },
   "outputs": [
    {
     "data": {
      "image/png": "[encoded data removed]",
      "text/plain": [
       "<Figure size 864x648 with 1 Axes>"
      ]
     },
     "metadata": {
      "needs_background": "light"
     },
     "output_type": "display_data"
    }
   ],
   "source": [
    "plt.figure(figsize=(12, 9))\n",
    "plt.plot(np.arange(1, 21), history.history['acc'])\n",
    "plt.plot(np.arange(1, 21), history.history['val_acc'])\n",
    "plt.title('Acc / Val Acc', fontsize=20)\n",
    "plt.xlabel('Epochs')\n",
    "plt.ylabel('Acc')\n",
    "plt.legend(['acc', 'val_acc'], fontsize=15)\n",
    "plt.show()"
   ]
  },
  {
   "cell_type": "code",
   "execution_count": null,
   "metadata": {},
   "outputs": [],
   "source": []
  }
 ],
 "metadata": {
  "accelerator": "GPU",
  "colab": {
   "collapsed_sections": [],
   "name": "TF Certificate Category 2 (강의) - 이미지의 사본",
   "provenance": []
  },
  "kernelspec": {
   "display_name": "Python 3",
   "language": "python",
   "name": "python3"
  },
  "language_info": {
   "codemirror_mode": {
    "name": "ipython",
    "version": 3
   },
   "file_extension": ".py",
   "mimetype": "text/x-python",
   "name": "python",
   "nbconvert_exporter": "python",
   "pygments_lexer": "ipython3",
   "version": "3.8.8"
  }
 },
 "nbformat": 4,
 "nbformat_minor": 1
}
