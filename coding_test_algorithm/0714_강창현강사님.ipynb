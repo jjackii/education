{
 "cells": [
  {
   "cell_type": "markdown",
   "metadata": {
    "id": "An49sxUsbSPK"
   },
   "source": [
    "#주어진 문제들을 최소 1시간 안에 모두 풀수 있게 만들어야 한다."
   ]
  },
  {
   "cell_type": "markdown",
   "metadata": {
    "id": "oAGHaQJjbVlB"
   },
   "source": [
    "목표 : 파이썬의 익숙함을 올리자."
   ]
  },
  {
   "cell_type": "markdown",
   "metadata": {
    "id": "mV7scNGiboWB"
   },
   "source": [
    "## max()을 사용하지 않고 max() 구현하기(for 문 사용)"
   ]
  },
  {
   "cell_type": "code",
   "execution_count": 1,
   "metadata": {
    "ExecuteTime": {
     "end_time": "2021-07-14T06:26:47.401865Z",
     "start_time": "2021-07-14T06:26:47.387316Z"
    },
    "colab": {
     "base_uri": "https://localhost:8080/"
    },
    "id": "xgZT6jI3bPvl",
    "outputId": "f320c416-75e8-416a-c094-682fb0bbf025"
   },
   "outputs": [
    {
     "name": "stdout",
     "output_type": "stream",
     "text": [
      "10\n"
     ]
    }
   ],
   "source": [
    "data=[10, 7, 2, 4, 6]\n",
    "max_v=0\n",
    "for i in data:\n",
    "    if max_v < i:\n",
    "        max_v=i\n",
    "#     else:\n",
    "#         continue\n",
    "        \n",
    "print(max_v)"
   ]
  },
  {
   "cell_type": "markdown",
   "metadata": {
    "id": "zeiaTO9Obycn"
   },
   "source": [
    "## min()을 사용하지 않고 min() 구현하기(for 문 사용)"
   ]
  },
  {
   "cell_type": "code",
   "execution_count": 4,
   "metadata": {
    "ExecuteTime": {
     "end_time": "2021-07-14T06:27:21.215126Z",
     "start_time": "2021-07-14T06:27:21.201652Z"
    },
    "colab": {
     "base_uri": "https://localhost:8080/"
    },
    "id": "DRTPegk7bruZ",
    "outputId": "72af636e-3e0b-4ee1-c5c1-b3714fd2f59c"
   },
   "outputs": [
    {
     "name": "stdout",
     "output_type": "stream",
     "text": [
      "1\n"
     ]
    }
   ],
   "source": [
    "data=[2, 7, 1, 2, 4, 6]\n",
    "min_v=data[0]\n",
    "for i in data:\n",
    "    if min_v > i:\n",
    "        min_v=i\n",
    "        \n",
    "print(min_v)"
   ]
  },
  {
   "cell_type": "markdown",
   "metadata": {
    "id": "ZQjl7Fyib1zL"
   },
   "source": [
    "## sum()을 사용하지 않고 sum()  구현하기(for 문 사용)"
   ]
  },
  {
   "cell_type": "code",
   "execution_count": 5,
   "metadata": {
    "ExecuteTime": {
     "end_time": "2021-07-14T06:27:25.679336Z",
     "start_time": "2021-07-14T06:27:25.666372Z"
    },
    "colab": {
     "base_uri": "https://localhost:8080/"
    },
    "id": "dciu525_btGQ",
    "outputId": "75c98f5c-bb2b-4f67-b265-1bd1546c84b9"
   },
   "outputs": [
    {
     "name": "stdout",
     "output_type": "stream",
     "text": [
      "21\n"
     ]
    }
   ],
   "source": [
    "data=[2, 7, 2, 4, 6]\n",
    "sum_v=0\n",
    "for i in data:\n",
    "    sum_v += i\n",
    "    \n",
    "print(sum_v)"
   ]
  },
  {
   "cell_type": "markdown",
   "metadata": {
    "id": "iTl9Xilbb4n_"
   },
   "source": [
    "## 평균값 구현하기(for 문 사용)"
   ]
  },
  {
   "cell_type": "code",
   "execution_count": 9,
   "metadata": {
    "ExecuteTime": {
     "end_time": "2021-07-14T06:30:10.774953Z",
     "start_time": "2021-07-14T06:30:10.747542Z"
    },
    "colab": {
     "base_uri": "https://localhost:8080/"
    },
    "id": "ZQ4QYizhb3UX",
    "outputId": "c39f7f72-06a0-433a-9099-e84e381279fe"
   },
   "outputs": [
    {
     "name": "stdout",
     "output_type": "stream",
     "text": [
      "4.2\n"
     ]
    },
    {
     "ename": "TypeError",
     "evalue": "sequence item 0: expected str instance, int found",
     "output_type": "error",
     "traceback": [
      "\u001b[1;31m---------------------------------------------------------------------------\u001b[0m",
      "\u001b[1;31mTypeError\u001b[0m                                 Traceback (most recent call last)",
      "\u001b[1;32m<ipython-input-9-e0aa533c5e76>\u001b[0m in \u001b[0;36m<module>\u001b[1;34m\u001b[0m\n\u001b[0;32m      9\u001b[0m \u001b[0mprint\u001b[0m\u001b[1;33m(\u001b[0m\u001b[0mmean_v\u001b[0m\u001b[1;33m)\u001b[0m\u001b[1;33m\u001b[0m\u001b[1;33m\u001b[0m\u001b[0m\n\u001b[0;32m     10\u001b[0m \u001b[1;33m\u001b[0m\u001b[0m\n\u001b[1;32m---> 11\u001b[1;33m \u001b[0mmean_v2\u001b[0m\u001b[1;33m=\u001b[0m\u001b[0meval\u001b[0m\u001b[1;33m(\u001b[0m\u001b[1;34m'+'\u001b[0m\u001b[1;33m.\u001b[0m\u001b[0mjoin\u001b[0m\u001b[1;33m(\u001b[0m\u001b[0mdata\u001b[0m\u001b[1;33m)\u001b[0m\u001b[1;33m)\u001b[0m\u001b[1;33m/\u001b[0m\u001b[0mn\u001b[0m\u001b[1;33m\u001b[0m\u001b[1;33m\u001b[0m\u001b[0m\n\u001b[0m\u001b[0;32m     12\u001b[0m \u001b[1;33m\u001b[0m\u001b[0m\n\u001b[0;32m     13\u001b[0m \u001b[0mprint\u001b[0m\u001b[1;33m(\u001b[0m\u001b[0mmean_v2\u001b[0m\u001b[1;33m)\u001b[0m\u001b[1;33m\u001b[0m\u001b[1;33m\u001b[0m\u001b[0m\n",
      "\u001b[1;31mTypeError\u001b[0m: sequence item 0: expected str instance, int found"
     ]
    }
   ],
   "source": [
    "data=[2, 7, 2, 4, 6]\n",
    "mean_v=0\n",
    "n=len(data)\n",
    "sum_v=0\n",
    "for i in data:\n",
    "    sum_v+=i\n",
    "mean_v=sum_v/n\n",
    "# /=\n",
    "    \n",
    "print(mean_v)\n",
    "\n",
    "mean_v2=eval('+'.join(data))/n\n",
    "    \n",
    "print(mean_v2)"
   ]
  },
  {
   "cell_type": "markdown",
   "metadata": {
    "id": "AJ4_P9_GcAzv"
   },
   "source": [
    "여기까지 2분 정도 풀 수 있으면 좋다."
   ]
  },
  {
   "cell_type": "markdown",
   "metadata": {
    "id": "WRx3_BD2cHAQ"
   },
   "source": [
    "## dictionary 구축하기 (for, if)\n",
    "다음과 같은 리스트가 있을 때 각각의 요소의 개수를 value 값으로 갖는 딕셔너리를 만드세요.\n",
    "\n",
    "book_title = ['great', 'expectations', 'the', 'adventures', 'of', 'sherlock', 'holmes', 'the', 'great', 'gasby', 'hamlet', 'adventures', 'of', 'huckleberry', 'fin']\n",
    "\n",
    "\n",
    "예시 출력)<br>\n",
    "{'great': 2, 'expectations': 1, 'the': 2, 'adventures': 2, 'of': 2, 'sherlock': 1, 'holmes': 1, 'gasby': 1, 'hamlet': 1, 'huckleberry': 1, 'fin': 1}"
   ]
  },
  {
   "cell_type": "markdown",
   "metadata": {
    "id": "6miYyMgdcKyY"
   },
   "source": [
    "##### 위의 문제를 아래의 3가지 방법으로 딕셔너리를 각각 만들어 봅시다.\n",
    "- for와 if만 사용\n",
    "- count()를 사용\n",
    "- get() 사용"
   ]
  },
  {
   "cell_type": "code",
   "execution_count": 14,
   "metadata": {
    "ExecuteTime": {
     "end_time": "2021-07-14T06:41:29.003047Z",
     "start_time": "2021-07-14T06:41:28.986088Z"
    },
    "colab": {
     "base_uri": "https://localhost:8080/"
    },
    "id": "D68cgn9kb51Z",
    "outputId": "ba976969-56a9-463b-b31a-5611d8c34e77"
   },
   "outputs": [
    {
     "name": "stdout",
     "output_type": "stream",
     "text": [
      "{'great': 2, 'expectations': 1, 'the': 2, 'adventures': 2, 'of': 2, 'sherlock': 1, 'holmes': 1, 'gasby': 1, 'hamlet': 1, 'huckleberry': 1, 'fin': 1}\n"
     ]
    }
   ],
   "source": [
    "# for , if 만 사용\n",
    "book_title = ['great', 'expectations', 'the', 'adventures', 'of', 'sherlock', 'holmes', 'the', 'great', 'gasby', 'hamlet', 'adventures', 'of', 'huckleberry', 'fin']\n",
    "dict_book = {}\n",
    "for i in book_title:\n",
    "    if i not in dict_book:\n",
    "        dict_book[i]=1\n",
    "    else:\n",
    "        dict_book[i]+=1\n",
    "# print(book_title.count('the'))\n",
    "\n",
    "print(dict_book)"
   ]
  },
  {
   "cell_type": "code",
   "execution_count": 19,
   "metadata": {
    "ExecuteTime": {
     "end_time": "2021-07-14T06:47:19.031594Z",
     "start_time": "2021-07-14T06:47:19.011044Z"
    },
    "colab": {
     "base_uri": "https://localhost:8080/"
    },
    "id": "dI1rMoRKcQGt",
    "outputId": "ceeb9e4e-8f4c-4835-f2bb-a85ad4dfcec5"
   },
   "outputs": [
    {
     "name": "stdout",
     "output_type": "stream",
     "text": [
      "{'great': 2, 'expectations': 1, 'the': 2, 'adventures': 2, 'of': 2, 'sherlock': 1, 'holmes': 1, 'gasby': 1, 'hamlet': 1, 'huckleberry': 1, 'fin': 1}\n"
     ]
    }
   ],
   "source": [
    "# for문과 count 만 사용\n",
    "book_title = ['great', 'expectations', 'the', 'adventures', 'of', 'sherlock', 'holmes', 'the', 'great', 'gasby', 'hamlet', 'adventures', 'of', 'huckleberry', 'fin']\n",
    "dict_book2={}\n",
    "\n",
    "for i in book_title:\n",
    "    # set(book_title)\n",
    "    dict_book2[i]=book_title.count(i) #[i] ㅋㅋ\n",
    "\n",
    "print(dict_book2)"
   ]
  },
  {
   "cell_type": "code",
   "execution_count": 20,
   "metadata": {
    "ExecuteTime": {
     "end_time": "2021-07-14T06:51:50.067430Z",
     "start_time": "2021-07-14T06:51:50.058013Z"
    },
    "colab": {
     "base_uri": "https://localhost:8080/"
    },
    "id": "fAwQbadMcUYa",
    "outputId": "9f2bc0e6-2871-44b4-9e99-7519c8e34241"
   },
   "outputs": [
    {
     "name": "stdout",
     "output_type": "stream",
     "text": [
      "{'great': 2, 'expectations': 1, 'the': 2, 'adventures': 2, 'of': 2, 'sherlock': 1, 'holmes': 1, 'gasby': 1, 'hamlet': 1, 'huckleberry': 1, 'fin': 1}\n"
     ]
    }
   ],
   "source": [
    "# for문과 get()을 사용 // count?는 없는 값일 경우 error\n",
    "book_title = ['great', 'expectations', 'the', 'adventures', 'of', 'sherlock', 'holmes', 'the', 'great', 'gasby', 'hamlet', 'adventures', 'of', 'huckleberry', 'fin']\n",
    "dict_book3={}\n",
    "for i in book_title:\n",
    "    dict_book3[i]=dict_book3.get(i, 0) + 1 # 없는 경우 0을 넣어 새로운 값으로 dict에 추가\n",
    "\n",
    "print(dict_book3)"
   ]
  },
  {
   "cell_type": "markdown",
   "metadata": {
    "id": "cwDUaq8cce4w"
   },
   "source": [
    "## 조건문과 반복문, break를 활용하여 다음 headlines 리스트의 요소들을 130자 크기의 하나의 문자열로 이어 붙이는 코드를 작성하세요.\n",
    "```\n",
    "headlines = [\n",
    "  \"Local Bear Eaten by Man\",\n",
    "  \"Legislature Announces New Laws\",\n",
    "  \"Peasant Discovers Violence Inherent in System\",\n",
    "  \"Cat Rescues Fireman Stuck in Tree\",\n",
    "  \"Brave Knight Runs Away\",\n",
    "  \"Papperbok Review: Totally Triffic\"\n",
    "]\n",
    "```"
   ]
  },
  {
   "cell_type": "code",
   "execution_count": 30,
   "metadata": {
    "ExecuteTime": {
     "end_time": "2021-07-14T07:16:13.061391Z",
     "start_time": "2021-07-14T07:16:13.050250Z"
    },
    "colab": {
     "base_uri": "https://localhost:8080/"
    },
    "id": "EJUbK4QncVz6",
    "outputId": "2b2ceefd-b86f-4271-bba2-5b31a805f710"
   },
   "outputs": [
    {
     "name": "stdout",
     "output_type": "stream",
     "text": [
      "Local Bear Eaten by Man Legislature Announces New Laws Peasant Discovers Violence Inherent in System Cat Rescues Fireman Stuck in \n",
      "130\n"
     ]
    }
   ],
   "source": [
    "'''\n",
    "각각의 문자열을 붙인다. 그리고 130개로 붙이면 된다.\n",
    "'''\n",
    "\n",
    "headlines = [\n",
    "  \"Local Bear Eaten by Man\",\n",
    "  \"Legislature Announces New Laws\",\n",
    "  \"Peasant Discovers Violence Inherent in System\",\n",
    "  \"Cat Rescues Fireman Stuck in Tree\",\n",
    "  \"Brave Knight Runs Away\",\n",
    "  \"Papperbok Review: Totally Triffic\"\n",
    "]\n",
    "# result = ''\n",
    "\n",
    "result = ' '.join(headlines)[:130]\n",
    "\n",
    "print(result)\n",
    "print(len(result))"
   ]
  },
  {
   "cell_type": "markdown",
   "metadata": {},
   "source": [
    "## 가로세로 높이가 같은 상자들이 쌓여있는 방이 있다. 방이 오른쪽으로 90도 회전하여 상자들이 중력의 영향을 받아 낙하한다고 할 때, 낙차가 가장 큰 상자를 구하여 낙차를 리턴하자.\n",
    "- 중력은 회전이 완료된 후에 적용된다.\n",
    "- 상자들은 모두 한쪽 변면에 붙여진 상태로 쌓여 2차원의 형태를 이루며 벽에서 떨어져서 쌓인 상자는 없다.(일직선으로 떨어진다.)\n",
    "- 방의 가로길이와 세로길이는 9이다.\n",
    "- 상자의 길이는 가로세로 1이다\n",
    "- 입력값의 인덱스가 상자가 쌓여진 높이이다.\n",
    "- 입력값 : [7, 4, 2, 0, 0, 6, 0, 7, 0]\n",
    "- 출력값 : 7"
   ]
  },
  {
   "cell_type": "code",
   "execution_count": null,
   "metadata": {
    "colab": {
     "base_uri": "https://localhost:8080/",
     "height": 35
    },
    "id": "J3y1Oj7SchHj",
    "outputId": "8f6cd595-f452-45f2-bb8f-5b1a8be8c621"
   },
   "outputs": [
    {
     "data": {
      "application/vnd.google.colaboratory.intrinsic+json": {
       "type": "string"
      },
      "text/plain": [
       "'\\n중력문제 작성\\n'"
      ]
     },
     "execution_count": 10,
     "metadata": {
      "tags": []
     },
     "output_type": "execute_result"
    }
   ],
   "source": [
    "'''\n",
    "중력문제 작성\n",
    "'''\n",
    "import numpy as np\n",
    "mtx=[[0*7],[0*4],[],...]\n",
    "mtx.T\n"
   ]
  },
  {
   "cell_type": "markdown",
   "metadata": {
    "id": "oRnvZ_YcdW9x"
   },
   "source": [
    "## 나이가 입력된 리스트가 있을때, 조건문과 반복문, continue를 활용하여 20살 이상일때만 \"성인입니다\"라는 출력을 하는 코드를 작성하세요.\n",
    "\n",
    "예시 출력)\n",
    "\n",
    "23 살은 성인입니다.<br>\n",
    "30 살은 성인입니다.<br>\n",
    "25 살은 성인입니다.<br>\n",
    "31 살은 성인입니다.<br>"
   ]
  },
  {
   "cell_type": "code",
   "execution_count": 34,
   "metadata": {
    "ExecuteTime": {
     "end_time": "2021-07-14T07:23:11.853976Z",
     "start_time": "2021-07-14T07:23:11.841407Z"
    },
    "colab": {
     "base_uri": "https://localhost:8080/"
    },
    "id": "3cFz1K7wde5n",
    "outputId": "7c2c6d12-bfb7-46b5-c616-089f89025130"
   },
   "outputs": [
    {
     "name": "stdout",
     "output_type": "stream",
     "text": [
      "21살은 성인입니다.\n",
      "24살은 성인입니다.\n",
      "30살은 성인입니다.\n"
     ]
    }
   ],
   "source": [
    "def ovr_20(list):\n",
    "    for i in list:\n",
    "        if i > 20: \n",
    "            print(f'{i}살은 성인입니다.')\n",
    "\n",
    "ovr_20([8,13,15,19,20,21,24,30])"
   ]
  },
  {
   "cell_type": "markdown",
   "metadata": {},
   "source": [
    "## python 프린트 방법 3가지\n",
    "### 초창기 파이썬\n",
    "```\n",
    "print('%s %s' % ('a', 'b'))\n",
    "# a b\n",
    "\n",
    "print('%i %s' % (2, 'two'))\n",
    "# 2 two\n",
    "```\n",
    "<br>\n",
    "\n",
    "### pyformat\n",
    "```\n",
    "print('{} {}'.format('one', 'two'))\n",
    "# one two\n",
    "\n",
    "print('{1} {0}'.format('one', 'two'))\n",
    "# two one\n",
    " ```\n",
    "<br>\n",
    "\n",
    "### f-string \n",
    "```\n",
    "a, b = ('one', 'two')\n",
    "print(f'{a} {b}')\n",
    "# one two\n",
    "```\n"
   ]
  },
  {
   "cell_type": "markdown",
   "metadata": {
    "id": "fqmZecOadeXQ"
   },
   "source": [
    "## 최고가와 최저가의 차이를 변동폭으로 정의할 때 (시작가 + 변동폭)이 최고가 보다 높을 경우 \"상승장\", 그렇지 않은 경우 \"하락장\" 문자열을 출력하세요.\n",
    "```\n",
    "Key Name         |  Description\n",
    "---------------    ----------------------------\n",
    "opening_price    |   최근 24시간 내 시작 거래금액\n",
    "closing_price    |   최근 24시간 내 마지막 거래금액\n",
    "min_price        |   최근 24시간 내 최저 거래금액\n",
    "max_price        |   최근 24시간 내 최고 거래금액\n",
    "```\n"
   ]
  },
  {
   "cell_type": "code",
   "execution_count": 4,
   "metadata": {
    "ExecuteTime": {
     "end_time": "2021-07-14T13:52:36.284390Z",
     "start_time": "2021-07-14T13:52:36.207246Z"
    },
    "colab": {
     "base_uri": "https://localhost:8080/"
    },
    "id": "m6fyqgRSdRel",
    "outputId": "c6824444-2862-4cfe-9e53-844b43693ada"
   },
   "outputs": [
    {
     "name": "stdout",
     "output_type": "stream",
     "text": [
      "상승장\n",
      "opening_price 38451000.0\n",
      "max_price 38850000.0\n",
      "change_price 1379000.0\n",
      "today_price 39830000.0\n"
     ]
    }
   ],
   "source": [
    "# 힌트\n",
    "import requests\n",
    "url = 'https://api.bithumb.com/public/ticker/btc'\n",
    "data = { k: float(v) for k, v in requests.get(url).json()['data'].items() }\n",
    "# print(data)\n",
    "\n",
    "change_price = data['max_price'] - data['min_price']\n",
    "if data['max_price'] < data['opening_price']+change_price:\n",
    "    print('상승장')\n",
    "else:\n",
    "    print('하락장')\n",
    "\n",
    "print(\"opening_price\", data['opening_price'])\n",
    "print(\"max_price\", data['max_price'])\n",
    "print(\"change_price\", change_price)\n",
    "print(\"today_price\", data['opening_price']+change_price)"
   ]
  },
  {
   "cell_type": "code",
   "execution_count": 38,
   "metadata": {
    "ExecuteTime": {
     "end_time": "2021-07-14T07:34:39.485699Z",
     "start_time": "2021-07-14T07:34:39.427202Z"
    }
   },
   "outputs": [
    {
     "data": {
      "text/plain": [
       "{'opening_price': 38451000.0,\n",
       " 'closing_price': 37715000.0,\n",
       " 'min_price': 37600000.0,\n",
       " 'max_price': 38850000.0,\n",
       " 'units_traded': 1777.99670547,\n",
       " 'acc_trade_value': 67899452889.0811,\n",
       " 'prev_closing_price': 38430000.0,\n",
       " 'units_traded_24H': 2438.38287559,\n",
       " 'acc_trade_value_24H': 93419497575.2693,\n",
       " 'fluctate_24H': -1377000.0,\n",
       " 'fluctate_rate_24H': -3.52,\n",
       " 'date': 1626248080146.0}"
      ]
     },
     "execution_count": 38,
     "metadata": {},
     "output_type": "execute_result"
    }
   ],
   "source": [
    "# 힌트\n",
    "import requests\n",
    "url = 'https://api.bithumb.com/public/ticker/btc'\n",
    "data = { k: float(v) for k, v in requests.get(url).json()['data'].items() }\n",
    "data"
   ]
  },
  {
   "cell_type": "markdown",
   "metadata": {
    "id": "H7PqTu8_d4wp"
   },
   "source": [
    "## 장바구니에 아래와 같은 과일이 들어있고 과일 판별 리스트가 있습니다. 현재 장바구니에는 과일이 몇개이고 과일이 아닌 것은 몇개인지 출력하세요.\n",
    "\n",
    "```\n",
    "basket_items = {'apples': 4, 'oranges': 19, 'kites': 3, 'sandwiches': 8}\n",
    "fruits = ['apples', 'oranges', 'pears', 'peaches', 'grapes', 'bananas']\n",
    "```"
   ]
  },
  {
   "cell_type": "code",
   "execution_count": 20,
   "metadata": {
    "ExecuteTime": {
     "end_time": "2021-07-14T14:10:06.683649Z",
     "start_time": "2021-07-14T14:10:06.674683Z"
    },
    "colab": {
     "base_uri": "https://localhost:8080/"
    },
    "id": "iWZwtGjidv9N",
    "outputId": "5e019a7e-4af4-443b-e103-db4b82ba5583"
   },
   "outputs": [
    {
     "name": "stdout",
     "output_type": "stream",
     "text": [
      "과일은 23개이고, 11개는 과일이 아닙니다.\n"
     ]
    }
   ],
   "source": [
    "'''\n",
    "예시 출력)\n",
    "과일은 23개이고, 11개는 과일이 아닙니다..\n",
    "'''\n",
    "basket_items = {'apples': 4, 'oranges': 19, 'kites': 3, 'sandwiches': 8}\n",
    "fruits = ['apples', 'oranges', 'pears', 'peaches', 'grapes', 'bananas']\n",
    "fruit = 0\n",
    "not_fruit = 0\n",
    "# print(len(basket_items))\n",
    "for i in basket_items:\n",
    "#     print(i)\n",
    "    if i in fruits:\n",
    "        fruit += basket_items[i]\n",
    "    else:\n",
    "        not_fruit += basket_items[i]\n",
    "\n",
    "print('과일은 {}개이고, {}개는 과일이 아닙니다.'.format(fruit, not_fruit))"
   ]
  },
  {
   "cell_type": "markdown",
   "metadata": {
    "id": "bx4D5GhNeAYw"
   },
   "source": [
    "## 영어 이름은 가운데 이름을 가지고 있는 경우가 있습니다. 가운데 이름은 대문자로 축약해서 나타내는 코드를 작성하세요."
   ]
  },
  {
   "cell_type": "code",
   "execution_count": null,
   "metadata": {
    "colab": {
     "base_uri": "https://localhost:8080/"
    },
    "id": "PkzrI1qGd9gq",
    "outputId": "c524aeb4-1299-491d-e2b3-0f7ded6632af"
   },
   "outputs": [
    {
     "name": "stdout",
     "output_type": "stream",
     "text": [
      " Alice B. C. Davis\n"
     ]
    }
   ],
   "source": [
    "'''\n",
    "예시 입력)\n",
    "Alice Betty Catherine Davis\n",
    "예시 출력)\n",
    "Alice B. C. Davis\n",
    "'''\n",
    "\n",
    "def eng_name(fullname):\n",
    "  pass\n",
    "  \n",
    "  print(result)\n",
    "\n",
    "eng_name('Alice Betty Catherine Davis')"
   ]
  },
  {
   "cell_type": "markdown",
   "metadata": {
    "id": "azedDNrLeJZX"
   },
   "source": [
    "## 1월 1일 월요일부터 12월 31일까지 달력을 출력하세요.\n",
    "\n",
    "1.   항목 추가\n",
    "2.   항목 추가\n",
    "\n"
   ]
  },
  {
   "cell_type": "code",
   "execution_count": null,
   "metadata": {
    "colab": {
     "base_uri": "https://localhost:8080/"
    },
    "id": "YMtGW2CpeEdO",
    "outputId": "e5f9eab1-e29a-41a0-c7f0-705db048a2c6"
   },
   "outputs": [
    {
     "name": "stdout",
     "output_type": "stream",
     "text": [
      "         1월\n",
      "Mo Tu We Th Fr Sa Su \n",
      " 1  2  3  4  5  6  7 \n",
      " 8  9 10 11 12 13 14 \n",
      "15 16 17 18 19 20 21 \n",
      "22 23 24 25 26 27 28 \n",
      "29 30 31          2월\n",
      "Mo Tu We Th Fr Sa Su \n",
      " 1  2  3  4  5  6  7 \n",
      " 8  9 10 11 12 13 14 \n",
      "15 16 17 18 19 20 21 \n",
      "22 23 24 25 26 27 28 \n",
      "         3월\n",
      "Mo Tu We Th Fr Sa Su \n",
      " 1  2  3  4  5  6  7 \n",
      " 8  9 10 11 12 13 14 \n",
      "15 16 17 18 19 20 21 \n",
      "22 23 24 25 26 27 28 \n",
      "29 30 31          4월\n",
      "Mo Tu We Th Fr Sa Su \n",
      " 1  2  3  4  5  6  7 \n",
      " 8  9 10 11 12 13 14 \n",
      "15 16 17 18 19 20 21 \n",
      "22 23 24 25 26 27 28 \n",
      "29 30          5월\n",
      "Mo Tu We Th Fr Sa Su \n",
      " 1  2  3  4  5  6  7 \n",
      " 8  9 10 11 12 13 14 \n",
      "15 16 17 18 19 20 21 \n",
      "22 23 24 25 26 27 28 \n",
      "29 30 31          6월\n",
      "Mo Tu We Th Fr Sa Su \n",
      " 1  2  3  4  5  6  7 \n",
      " 8  9 10 11 12 13 14 \n",
      "15 16 17 18 19 20 21 \n",
      "22 23 24 25 26 27 28 \n",
      "29 30          7월\n",
      "Mo Tu We Th Fr Sa Su \n",
      " 1  2  3  4  5  6  7 \n",
      " 8  9 10 11 12 13 14 \n",
      "15 16 17 18 19 20 21 \n",
      "22 23 24 25 26 27 28 \n",
      "29 30 31          8월\n",
      "Mo Tu We Th Fr Sa Su \n",
      " 1  2  3  4  5  6  7 \n",
      " 8  9 10 11 12 13 14 \n",
      "15 16 17 18 19 20 21 \n",
      "22 23 24 25 26 27 28 \n",
      "29 30 31          9월\n",
      "Mo Tu We Th Fr Sa Su \n",
      " 1  2  3  4  5  6  7 \n",
      " 8  9 10 11 12 13 14 \n",
      "15 16 17 18 19 20 21 \n",
      "22 23 24 25 26 27 28 \n",
      "29 30         10월\n",
      "Mo Tu We Th Fr Sa Su \n",
      " 1  2  3  4  5  6  7 \n",
      " 8  9 10 11 12 13 14 \n",
      "15 16 17 18 19 20 21 \n",
      "22 23 24 25 26 27 28 \n",
      "29 30 31         11월\n",
      "Mo Tu We Th Fr Sa Su \n",
      " 1  2  3  4  5  6  7 \n",
      " 8  9 10 11 12 13 14 \n",
      "15 16 17 18 19 20 21 \n",
      "22 23 24 25 26 27 28 \n",
      "29 30         12월\n",
      "Mo Tu We Th Fr Sa Su \n",
      " 1  2  3  4  5  6  7 \n",
      " 8  9 10 11 12 13 14 \n",
      "15 16 17 18 19 20 21 \n",
      "22 23 24 25 26 27 28 \n",
      "29 30 31 "
     ]
    }
   ],
   "source": [
    "'''\n",
    "예시 출력)\n",
    "    1 월\n",
    "Mo Tu We Th Fr Sa Su \n",
    " 1 2 3 4 5 6 7 \n",
    " 8 9 10 11 12 13 14 \n",
    "15 16 17 18 19 20 21 \n",
    "22 23 24 25 26 27 28 \n",
    "29 30 31 \n",
    "    2 월\n",
    "Mo Tu We Th Fr Sa Su \n",
    " 1 2 3 4 5 6 7 \n",
    " 8 9 10 11 12 13 14 \n",
    "15 16 17 18 19 20 21 \n",
    "22 23 24 25 26 27 28 \n",
    "    3 월\n",
    "Mo Tu We Th Fr Sa Su \n",
    " 1 2 3 4 5 6 7 \n",
    " 8 9 10 11 12 13 14 \n",
    "15 16 17 18 19 20 21 \n",
    "22 23 24 25 26 27 28 \n",
    "29 30 31\n",
    "'''\n",
    "#달력 정답\n",
    "#답안지임.\n",
    "\n",
    "calendar = {\n",
    "    1:31, 2:28, 3:31, 4:30, 5:31, 6:30,\n",
    "    7:31, 8:31, 9:30, 10:31, 11:30, 12:31\n",
    "}\n",
    "weeks = ['Mo', 'Tu', 'We', 'Th', 'Fr', 'Sa', 'Su']\n",
    "for month, days in calendar.items():\n",
    "  print(f'{month:10}월') #우측정렬\n",
    "  #print(f'{month:<10}월')#좌측정렬\n",
    "  #print(f'{month:^10}월')#중앙정렬\n",
    "  for w in weeks:\n",
    "    print(f'{w}',end=\" \")\n",
    "  print('')\n",
    "  for i in range(1, days+1):\n",
    "    print(f'{i:2}', end=\" \")\n",
    "    if i % 7 == 0:\n",
    "      print('')"
   ]
  },
  {
   "cell_type": "markdown",
   "metadata": {
    "id": "g6XAGn3-eUgv"
   },
   "source": [
    "## 사용자가 입력한 문자열중 가운데 글자를 출력하세요.(단, 문자열이 짝수라면 가운데 두글자를 출력하세요.)"
   ]
  },
  {
   "cell_type": "code",
   "execution_count": null,
   "metadata": {
    "colab": {
     "base_uri": "https://localhost:8080/"
    },
    "id": "yMnRdszieNI_",
    "outputId": "cc7711c4-42cb-4255-9d8b-4a14e40340c5"
   },
   "outputs": [
    {
     "name": "stdout",
     "output_type": "stream",
     "text": [
      "c d\n",
      "c\n"
     ]
    }
   ],
   "source": [
    "'''\n",
    "예시 입력)\n",
    "abc\n",
    "예시 출력)\n",
    "b\n",
    "'''\n",
    "def mid(stra):\n",
    "  pass\n",
    "\n",
    "  \n",
    "\n",
    "mid('abcdde')\n",
    "mid('abcde')"
   ]
  },
  {
   "cell_type": "markdown",
   "metadata": {
    "id": "83cm077Vg-vn"
   },
   "source": [
    "'''\n",
    "방금 푼 문제를 참고하여, 아래의 문제를 푸시오.\n",
    "\n",
    "https://programmers.co.kr/learn/courses/30/lessons/12903\n",
    "'''"
   ]
  },
  {
   "cell_type": "code",
   "execution_count": null,
   "metadata": {
    "id": "3FMksfzWg9NH"
   },
   "outputs": [],
   "source": []
  },
  {
   "cell_type": "markdown",
   "metadata": {
    "id": "zKlJQYQQeymh"
   },
   "source": [
    "## 백준 10808\n",
    "\n",
    "python 내장함수 ord(), chr() 관련 공부를 구글로 진행 후에 관련 함수를 사용하여 아래의 문제를 풀어보자.\n",
    "\n",
    "https://www.acmicpc.net/problem/10808"
   ]
  },
  {
   "cell_type": "code",
   "execution_count": null,
   "metadata": {
    "colab": {
     "base_uri": "https://localhost:8080/"
    },
    "id": "K__R0vK-eWpc",
    "outputId": "78e700c8-9524-4a12-f2cf-f33fbb8ca537"
   },
   "outputs": [
    {
     "name": "stdout",
     "output_type": "stream",
     "text": [
      "apple\n",
      "1 0 0 0 1 0 0 0 0 0 0 1 0 0 0 2 0 0 0 0 0 0 0 0 0 0\n"
     ]
    }
   ],
   "source": [
    "'''\n",
    "백준 10808\n",
    "풀이\n",
    "'''\n",
    "data = input()\n",
    "\n",
    "\n",
    "\n",
    "\n"
   ]
  },
  {
   "cell_type": "markdown",
   "metadata": {
    "id": "6kcv5JxDf2dZ"
   },
   "source": [
    "## 백준 2577\n",
    "\n",
    "https://www.acmicpc.net/problem/2577"
   ]
  },
  {
   "cell_type": "code",
   "execution_count": null,
   "metadata": {
    "id": "kClP38f5fL4g"
   },
   "outputs": [],
   "source": [
    "'''\n",
    "백준 2577\n",
    "풀이\n",
    "'''\n",
    "A = int(input())\n",
    "B = int(input())\n",
    "C = int(input())\n",
    "\n",
    "\n",
    "\n",
    "\n"
   ]
  },
  {
   "cell_type": "markdown",
   "metadata": {
    "id": "1F1_CCQTgNDQ"
   },
   "source": [
    "## 2021 카카오 신입공채 1차 코딩테스트 1번 문제(정답률 50%)\n",
    "https://programmers.co.kr/learn/courses/30/lessons/72410\n",
    "\n",
    "> 몰입해서 풀어보시길 바랍니다. 쉬운 문제인 만큼 정답 구글링 확인 금지."
   ]
  },
  {
   "cell_type": "markdown",
   "metadata": {
    "id": "9No-fcN5gRVB"
   },
   "source": [
    "## 2021 카카오 신입공채 1차 코딩테스트 2번 문제(정답률 25%)\n",
    "https://programmers.co.kr/learn/courses/30/lessons/72411\n",
    "\n",
    "> 이러한 유형은 많이 출제됩니다. 유형 치고는 쉬운 문제에 속합니다. 정답 구글링 확인 금지."
   ]
  },
  {
   "cell_type": "markdown",
   "metadata": {
    "id": "6GDJjQyVhvxX"
   },
   "source": [
    "## 리스트의 값들을 하나씩 뽑아서 비교하기(deque)\n",
    "\n",
    "파이썬의 가장 큰 문제는 [1,2,3] 이 있을때, [2, 3]으로 만든다면, 리스트의 모든 값이 한칸씩 앞으로 움직이는 과정을 거치게 된다.\n",
    "<br><br>\n",
    "따라서 리스트가 아주 크다면, 상당히 오래 걸리고, 자원소모가 심하다.\n",
    "<br><br>\n",
    "따라서 우리는 append() ,pop() 같은걸 사용하지 않고 deque 를 사용한다\n",
    "<br>\n",
    "\n",
    "    import collections\n",
    "    deq = collections.deque()\n",
    "\n",
    "<br>\n",
    "deque 는 스택과 큐 방식을 둘다 사용해 출구가 두개이다.\n",
    "\n",
    "- pop\n",
    "- popleft\n",
    "- append\n",
    "- appendleft\n",
    "\n",
    "\n",
    "위의 내용을 참고하여 아래의 문제를 풀어보자.\n",
    "\n",
    "https://programmers.co.kr/learn/courses/30/lessons/42583"
   ]
  },
  {
   "cell_type": "code",
   "execution_count": null,
   "metadata": {
    "id": "26gWhXZQiBDW"
   },
   "outputs": [],
   "source": []
  }
 ],
 "metadata": {
  "colab": {
   "collapsed_sections": [],
   "name": "2기 파이썬문제.ipynb",
   "provenance": []
  },
  "kernelspec": {
   "display_name": "Python 3",
   "language": "python",
   "name": "python3"
  },
  "language_info": {
   "codemirror_mode": {
    "name": "ipython",
    "version": 3
   },
   "file_extension": ".py",
   "mimetype": "text/x-python",
   "name": "python",
   "nbconvert_exporter": "python",
   "pygments_lexer": "ipython3",
   "version": "3.8.5"
  },
  "toc": {
   "base_numbering": 1,
   "nav_menu": {},
   "number_sections": true,
   "sideBar": true,
   "skip_h1_title": false,
   "title_cell": "Table of Contents",
   "title_sidebar": "Contents",
   "toc_cell": false,
   "toc_position": {},
   "toc_section_display": true,
   "toc_window_display": false
  }
 },
 "nbformat": 4,
 "nbformat_minor": 1
}
